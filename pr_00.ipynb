{
  "nbformat": 4,
  "nbformat_minor": 0,
  "metadata": {
    "colab": {
      "name": "Untitled0.ipynb",
      "provenance": [],
      "authorship_tag": "ABX9TyPkFV48zDeZy9OUq1ivMEYb",
      "include_colab_link": true
    },
    "kernelspec": {
      "name": "python3",
      "display_name": "Python 3"
    }
  },
  "cells": [
    {
      "cell_type": "markdown",
      "metadata": {
        "id": "view-in-github",
        "colab_type": "text"
      },
      "source": [
        "<a href=\"https://colab.research.google.com/github/aligtr/ml/blob/master/pr_00.ipynb\" target=\"_parent\"><img src=\"https://colab.research.google.com/assets/colab-badge.svg\" alt=\"Open In Colab\"/></a>"
      ]
    },
    {
      "cell_type": "code",
      "metadata": {
        "id": "4hjd8lqiiSiQ",
        "colab_type": "code",
        "colab": {
          "base_uri": "https://localhost:8080/",
          "height": 67
        },
        "outputId": "2b3ce27c-fdd9-4cc8-e5ec-ba418bf11e6b"
      },
      "source": [
        "var_list = [111, 'ppc']\n",
        "print(var_list.count('ppc'))\n",
        "var_list.append(['gg','ff'])\n",
        "print(var_list)\n",
        "var_list.extend('1')\n",
        "print(var_list)"
      ],
      "execution_count": 1,
      "outputs": [
        {
          "output_type": "stream",
          "text": [
            "1\n",
            "[111, 'ppc', ['gg', 'ff']]\n",
            "[111, 'ppc', ['gg', 'ff'], '1']\n"
          ],
          "name": "stdout"
        }
      ]
    }
  ]
}