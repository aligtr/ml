{
  "nbformat": 4,
  "nbformat_minor": 0,
  "metadata": {
    "colab": {
      "name": "Lab3_RandomForest.ipynb",
      "provenance": [],
      "collapsed_sections": [],
      "authorship_tag": "ABX9TyOyl1CZSlwwFktfmf/FZsPU",
      "include_colab_link": true
    },
    "kernelspec": {
      "name": "python3",
      "display_name": "Python 3"
    }
  },
  "cells": [
    {
      "cell_type": "markdown",
      "metadata": {
        "id": "view-in-github",
        "colab_type": "text"
      },
      "source": [
        "<a href=\"https://colab.research.google.com/github/aligtr/ml/blob/master/Lab3_RandomForest.ipynb\" target=\"_parent\"><img src=\"https://colab.research.google.com/assets/colab-badge.svg\" alt=\"Open In Colab\"/></a>"
      ]
    },
    {
      "cell_type": "markdown",
      "metadata": {
        "id": "z6sPqr8Lftnt"
      },
      "source": [
        "#настройка среды"
      ]
    },
    {
      "cell_type": "code",
      "metadata": {
        "id": "VlFRjUjUZ7dS"
      },
      "source": [
        "# Импорт необходимых модулей \r\n",
        "import matplotlib\r\n",
        "import seaborn as sns\r\n",
        "import matplotlib.pyplot as plt\r\n",
        "import numpy as np\r\n",
        "import pandas as pd\r\n",
        "\r\n",
        "# Настройки для визуализации\r\n",
        "# Если используется темная тема - лучше текст сделать белым\r\n",
        "TEXT_COLOR = 'black'\r\n",
        "\r\n",
        "matplotlib.rcParams['figure.figsize'] = (15, 10)\r\n",
        "matplotlib.rcParams['text.color'] = 'black'\r\n",
        "matplotlib.rcParams['font.size'] = 14\r\n",
        "matplotlib.rcParams['axes.labelcolor'] = TEXT_COLOR\r\n",
        "matplotlib.rcParams['xtick.color'] = TEXT_COLOR\r\n",
        "matplotlib.rcParams['ytick.color'] = TEXT_COLOR\r\n",
        "\r\n",
        "# Зафиксируем состояние случайных чисел\r\n",
        "RANDOM_STATE = 42\r\n",
        "np.random.seed(RANDOM_STATE)"
      ],
      "execution_count": 104,
      "outputs": []
    },
    {
      "cell_type": "markdown",
      "metadata": {
        "id": "l3JHfwoZfzzh"
      },
      "source": [
        "#загрузка данных "
      ]
    },
    {
      "cell_type": "code",
      "metadata": {
        "id": "1sELyC7gaDNl"
      },
      "source": [
        "URL = 'https://raw.githubusercontent.com/KaiL4eK/ml_edu/master/datasets/Titanic_train.csv'\r\n",
        "df = pd.read_csv(URL)"
      ],
      "execution_count": 105,
      "outputs": []
    },
    {
      "cell_type": "markdown",
      "metadata": {
        "id": "DVZx63a8f9Rh"
      },
      "source": [
        "#базовый анализ данных"
      ]
    },
    {
      "cell_type": "code",
      "metadata": {
        "colab": {
          "base_uri": "https://localhost:8080/"
        },
        "id": "8JDNekahawIu",
        "outputId": "625561b0-2898-468f-d289-a56a56d9a5a5"
      },
      "source": [
        "from sklearn.impute import SimpleImputer\r\n",
        "from sklearn.preprocessing import OneHotEncoder\r\n",
        "from sklearn.compose import ColumnTransformer\r\n",
        "from sklearn.pipeline import Pipeline\r\n",
        "\r\n",
        "# Составляет список признаков для обработки\r\n",
        "categorical_features = ['Sex', 'Embarked']\r\n",
        "numeric_features = ['Age', 'Fare']\r\n",
        "\r\n",
        "# Создаем обработчик категориальных признаков\r\n",
        "categorical_transformer = Pipeline(\r\n",
        "    steps=[\r\n",
        "        ('imp', SimpleImputer(strategy='most_frequent')),\r\n",
        "        ('enc', OneHotEncoder(handle_unknown='error')),                   \r\n",
        "])\r\n",
        "\r\n",
        "# Численные значения имеют пропуски, заполним стратегией медианы\r\n",
        "numeric_transformer = SimpleImputer(strategy='median')\r\n",
        "\r\n",
        "# Создаем конечный конвертер, который будет использован для \r\n",
        "#   предобработки\r\n",
        "preprocessor = ColumnTransformer(\r\n",
        "    # Список конвертеров, каждый кортеж содержит\r\n",
        "    #   имя, конвертер и признаки, на которые он будет применен\r\n",
        "    transformers=[\r\n",
        "        ('cat', categorical_transformer, categorical_features),\r\n",
        "        ('num', numeric_transformer, numeric_features)\r\n",
        "    ],\r\n",
        "    # Признаки, не указанные ни в одном из конвертеров будут удалены\r\n",
        "    remainder='drop'\r\n",
        ")\r\n",
        "\r\n",
        "preprocessor.fit(df)\r\n",
        "\r\n",
        "X_data = preprocessor.transform(df)\r\n",
        "print(type(X_data))\r\n",
        "print(X_data)"
      ],
      "execution_count": 106,
      "outputs": [
        {
          "output_type": "stream",
          "text": [
            "<class 'numpy.ndarray'>\n",
            "[[ 0.      1.      0.     ...  1.     22.      7.25  ]\n",
            " [ 1.      0.      1.     ...  0.     38.     71.2833]\n",
            " [ 1.      0.      0.     ...  1.     26.      7.925 ]\n",
            " ...\n",
            " [ 1.      0.      0.     ...  1.     28.     23.45  ]\n",
            " [ 0.      1.      1.     ...  0.     26.     30.    ]\n",
            " [ 0.      1.      0.     ...  0.     32.      7.75  ]]\n"
          ],
          "name": "stdout"
        }
      ]
    },
    {
      "cell_type": "markdown",
      "metadata": {
        "id": "mZLczCKLgB4G"
      },
      "source": [
        "#разбиение на обучающую/тестовую выборки"
      ]
    },
    {
      "cell_type": "code",
      "metadata": {
        "id": "4T-PGUmOcNFN"
      },
      "source": [
        "from sklearn.model_selection import train_test_split\r\n",
        "\r\n",
        "TRAIN_RATIO = 0.8\r\n",
        "\r\n",
        "y_data = df['Survived']\r\n",
        "\r\n",
        "X_train, X_test, y_train, y_test = train_test_split(\r\n",
        "    X_data, y_data, \r\n",
        "    train_size=TRAIN_RATIO, \r\n",
        "    random_state=RANDOM_STATE,\r\n",
        "    stratify=y_data\r\n",
        ")"
      ],
      "execution_count": 107,
      "outputs": []
    },
    {
      "cell_type": "markdown",
      "metadata": {
        "id": "5Bi3e97zgOOn"
      },
      "source": [
        "#функции оценки моделей"
      ]
    },
    {
      "cell_type": "code",
      "metadata": {
        "id": "_Z5lhVfcem7P"
      },
      "source": [
        "\r\n",
        "from sklearn.metrics import f1_score\r\n"
      ],
      "execution_count": 108,
      "outputs": []
    },
    {
      "cell_type": "markdown",
      "metadata": {
        "id": "1QzuDMl9gSOW"
      },
      "source": [
        "#оценка важности признаков"
      ]
    },
    {
      "cell_type": "code",
      "metadata": {
        "id": "dQGA081HdK9l"
      },
      "source": [
        "def show_importance(model, feature_names, X):\r\n",
        "    importances = model.feature_importances_\r\n",
        "    for feat_imp, feat_name in zip(importances, feature_names):\r\n",
        "        print(f'Feature: {feat_name} | {feat_imp}')\r\n",
        "\r\n",
        "    indices = np.argsort(importances)[::-1]\r\n",
        "    sorted_feat_names = [feature_names[ind] for ind in indices]\r\n",
        "\r\n",
        "    plt.figure()\r\n",
        "    plt.title(\"Feature importances\")\r\n",
        "    plt.bar(range(X.shape[1]), importances[indices], color=\"b\", align=\"center\")\r\n",
        "    plt.xticks(range(X.shape[1]), sorted_feat_names, rotation=70)\r\n",
        "    plt.xlim([-1, X.shape[1]])\r\n",
        "    plt.show()"
      ],
      "execution_count": 109,
      "outputs": []
    },
    {
      "cell_type": "markdown",
      "metadata": {
        "id": "gIIvTQqaghIT"
      },
      "source": [
        "# модели без нормалзации"
      ]
    },
    {
      "cell_type": "markdown",
      "metadata": {
        "id": "k4peW547gi_S"
      },
      "source": [
        "модель дерева"
      ]
    },
    {
      "cell_type": "code",
      "metadata": {
        "colab": {
          "base_uri": "https://localhost:8080/",
          "height": 825
        },
        "id": "0nv1oACQcxSm",
        "outputId": "767879b4-3b2c-4cd8-92c8-1858b7facd2b"
      },
      "source": [
        "from sklearn.tree import DecisionTreeClassifier, plot_tree\r\n",
        "\r\n",
        "tree = DecisionTreeClassifier(random_state=42,max_depth=7,criterion='gini')\r\n",
        "tree.fit(X_train, y_train)\r\n",
        "y_pred=tree.predict(X_test)\r\n",
        "f1 = f1_score(y_test,y_pred)\r\n",
        "print(f'f1_score={f1}')\r\n",
        "ohe_column_names = preprocessor \\\r\n",
        "    .named_transformers_['cat'] \\\r\n",
        "    .named_steps['enc'] \\\r\n",
        "    .get_feature_names(categorical_features)\r\n",
        "\r\n",
        "recovered_feat_names = \\\r\n",
        "    list(ohe_column_names) + \\\r\n",
        "    list(numeric_features)\r\n",
        "show_importance(tree, recovered_feat_names, X_train)"
      ],
      "execution_count": 110,
      "outputs": [
        {
          "output_type": "stream",
          "text": [
            "f1_score=0.7272727272727272\n",
            "Feature: Sex_female | 0.0\n",
            "Feature: Sex_male | 0.5122245084814832\n",
            "Feature: Embarked_C | 0.0016700945311816785\n",
            "Feature: Embarked_Q | 0.006671329230365174\n",
            "Feature: Embarked_S | 0.0\n",
            "Feature: Age | 0.19285645099632337\n",
            "Feature: Fare | 0.28657761676064675\n"
          ],
          "name": "stdout"
        },
        {
          "output_type": "display_data",
          "data": {
            "image/png": "[encoded data removed]",
            "text/plain": [
              "<Figure size 1080x720 with 1 Axes>"
            ]
          },
          "metadata": {
            "tags": [],
            "needs_background": "light"
          }
        }
      ]
    },
    {
      "cell_type": "markdown",
      "metadata": {
        "id": "pzxHqJm1gpjK"
      },
      "source": [
        "модель линейной регрессии"
      ]
    },
    {
      "cell_type": "code",
      "metadata": {
        "id": "dpzSvAzweV-Z",
        "colab": {
          "base_uri": "https://localhost:8080/"
        },
        "outputId": "0f29c2bc-b2ca-4e5b-882f-9c4ccdc6cf17"
      },
      "source": [
        "from sklearn.linear_model import LinearRegression\r\n",
        "\r\n",
        "# Создаем объект\r\n",
        "reg = LinearRegression()\r\n",
        "# Обучаем на выборке для обучения\r\n",
        "reg.fit(X_train, y_train)\r\n",
        "f1 = f1_score(y_test,y_pred)\r\n",
        "print(f'f1_score={f1}')"
      ],
      "execution_count": 111,
      "outputs": [
        {
          "output_type": "stream",
          "text": [
            "f1_score=0.7272727272727272\n"
          ],
          "name": "stdout"
        }
      ]
    },
    {
      "cell_type": "markdown",
      "metadata": {
        "id": "ZZncJOvIg8Ug"
      },
      "source": [
        "#модели с нормализацией"
      ]
    },
    {
      "cell_type": "code",
      "metadata": {
        "id": "Mysqqwznh0VP"
      },
      "source": [
        "from sklearn.preprocessing import StandardScaler\r\n",
        "\r\n",
        "scaler = StandardScaler()\r\n",
        "reg = LinearRegression()\r\n",
        "# \"Обучение\" трансформера - определение параметров средних и отклонений\r\n",
        "scaler.fit(X_train)\r\n",
        "\r\n",
        "# Стандартизация данных\r\n",
        "X_train_scaled = scaler.transform(X_train)\r\n",
        "X_test_scaled = scaler.transform(X_test)"
      ],
      "execution_count": 112,
      "outputs": []
    },
    {
      "cell_type": "markdown",
      "metadata": {
        "id": "MBP2urgdhHzc"
      },
      "source": [
        "модель дерева"
      ]
    },
    {
      "cell_type": "code",
      "metadata": {
        "id": "EoD5T1z5fm_U",
        "colab": {
          "base_uri": "https://localhost:8080/",
          "height": 825
        },
        "outputId": "3ba09bac-b28a-4946-e71f-3aaa97052667"
      },
      "source": [
        "tree = DecisionTreeClassifier(random_state=42,max_depth=7,criterion='gini')\r\n",
        "tree.fit(X_train_scaled, y_train)\r\n",
        "y_pred=tree.predict(X_test_scaled)\r\n",
        "f1 = f1_score(y_test,y_pred)\r\n",
        "print(f'f1_score={f1}')\r\n",
        "show_importance(tree, recovered_feat_names, X_train_scaled)"
      ],
      "execution_count": 113,
      "outputs": [
        {
          "output_type": "stream",
          "text": [
            "f1_score=0.7272727272727272\n",
            "Feature: Sex_female | 0.0\n",
            "Feature: Sex_male | 0.5122245084814832\n",
            "Feature: Embarked_C | 0.0016700945311816785\n",
            "Feature: Embarked_Q | 0.006671329230365174\n",
            "Feature: Embarked_S | 0.0\n",
            "Feature: Age | 0.19285645099632337\n",
            "Feature: Fare | 0.28657761676064675\n"
          ],
          "name": "stdout"
        },
        {
          "output_type": "display_data",
          "data": {
            "image/png": "[encoded data removed]",
            "text/plain": [
              "<Figure size 1080x720 with 1 Axes>"
            ]
          },
          "metadata": {
            "tags": [],
            "needs_background": "light"
          }
        }
      ]
    },
    {
      "cell_type": "markdown",
      "metadata": {
        "id": "h8gyRXyWhJbv"
      },
      "source": [
        "модель линейной регрессиии"
      ]
    },
    {
      "cell_type": "code",
      "metadata": {
        "id": "OK7doyFOfnkP",
        "colab": {
          "base_uri": "https://localhost:8080/"
        },
        "outputId": "2b819f64-e02f-4169-9ae9-c2e8e89edf86"
      },
      "source": [
        "# Создаем объект\r\n",
        "reg = LinearRegression()\r\n",
        "# Обучаем на выборке для обучения\r\n",
        "reg.fit(X_train_scaled, y_train)\r\n",
        "f1 = f1_score(y_test,y_pred)\r\n",
        "print(f'f1_score={f1}')"
      ],
      "execution_count": 114,
      "outputs": [
        {
          "output_type": "stream",
          "text": [
            "f1_score=0.7272727272727272\n"
          ],
          "name": "stdout"
        }
      ]
    },
    {
      "cell_type": "markdown",
      "metadata": {
        "id": "v-KIxTaCjOye"
      },
      "source": [
        ""
      ]
    },
    {
      "cell_type": "code",
      "metadata": {
        "id": "CfJk7qbqjOc0",
        "colab": {
          "base_uri": "https://localhost:8080/",
          "height": 462
        },
        "outputId": "eafcef0d-4a66-44a7-aae2-c02975f74ed1"
      },
      "source": [
        "from sklearn.model_selection import cross_val_score\r\n",
        "f1_scores=np.ndarray([14,2])\r\n",
        "criterions={\"gini\", \"entropy\"}\r\n",
        "max_depths=np.array(range(1,15,1))\r\n",
        "for i, max_depth in enumerate(max_depths):\r\n",
        "  for j, criterion in enumerate(criterions):\r\n",
        "    tree = DecisionTreeClassifier(random_state=42,max_depth=max_depth,criterion=criterion)\r\n",
        "    scores = cross_val_score(\r\n",
        "      tree,     # Модель для оценки\r\n",
        "      X_data,          # Данные для обучения\r\n",
        "      y_data,          # Разметка для обучения\r\n",
        "      cv=5,       # Количество фолдов\r\n",
        "      scoring='f1_macro'  # Желаемая метрика\r\n",
        "    )\r\n",
        "    f1_scores[i,j]=scores.mean();\r\n",
        "table=pd.DataFrame(data=f1_scores,columns=criterions,index=max_depths)\r\n",
        "table"
      ],
      "execution_count": 115,
      "outputs": [
        {
          "output_type": "execute_result",
          "data": {
            "text/html": [
              "<div>\n",
              "<style scoped>\n",
              "    .dataframe tbody tr th:only-of-type {\n",
              "        vertical-align: middle;\n",
              "    }\n",
              "\n",
              "    .dataframe tbody tr th {\n",
              "        vertical-align: top;\n",
              "    }\n",
              "\n",
              "    .dataframe thead th {\n",
              "        text-align: right;\n",
              "    }\n",
              "</style>\n",
              "<table border=\"1\" class=\"dataframe\">\n",
              "  <thead>\n",
              "    <tr style=\"text-align: right;\">\n",
              "      <th></th>\n",
              "      <th>gini</th>\n",
              "      <th>entropy</th>\n",
              "    </tr>\n",
              "  </thead>\n",
              "  <tbody>\n",
              "    <tr>\n",
              "      <th>1</th>\n",
              "      <td>0.770358</td>\n",
              "      <td>0.770358</td>\n",
              "    </tr>\n",
              "    <tr>\n",
              "      <th>2</th>\n",
              "      <td>0.770635</td>\n",
              "      <td>0.770635</td>\n",
              "    </tr>\n",
              "    <tr>\n",
              "      <th>3</th>\n",
              "      <td>0.765359</td>\n",
              "      <td>0.766562</td>\n",
              "    </tr>\n",
              "    <tr>\n",
              "      <th>4</th>\n",
              "      <td>0.775015</td>\n",
              "      <td>0.777137</td>\n",
              "    </tr>\n",
              "    <tr>\n",
              "      <th>5</th>\n",
              "      <td>0.779150</td>\n",
              "      <td>0.778704</td>\n",
              "    </tr>\n",
              "    <tr>\n",
              "      <th>6</th>\n",
              "      <td>0.774637</td>\n",
              "      <td>0.777148</td>\n",
              "    </tr>\n",
              "    <tr>\n",
              "      <th>7</th>\n",
              "      <td>0.784154</td>\n",
              "      <td>0.773229</td>\n",
              "    </tr>\n",
              "    <tr>\n",
              "      <th>8</th>\n",
              "      <td>0.752837</td>\n",
              "      <td>0.765391</td>\n",
              "    </tr>\n",
              "    <tr>\n",
              "      <th>9</th>\n",
              "      <td>0.754481</td>\n",
              "      <td>0.760618</td>\n",
              "    </tr>\n",
              "    <tr>\n",
              "      <th>10</th>\n",
              "      <td>0.747951</td>\n",
              "      <td>0.751778</td>\n",
              "    </tr>\n",
              "    <tr>\n",
              "      <th>11</th>\n",
              "      <td>0.758764</td>\n",
              "      <td>0.751159</td>\n",
              "    </tr>\n",
              "    <tr>\n",
              "      <th>12</th>\n",
              "      <td>0.742711</td>\n",
              "      <td>0.742551</td>\n",
              "    </tr>\n",
              "    <tr>\n",
              "      <th>13</th>\n",
              "      <td>0.746520</td>\n",
              "      <td>0.738480</td>\n",
              "    </tr>\n",
              "    <tr>\n",
              "      <th>14</th>\n",
              "      <td>0.749473</td>\n",
              "      <td>0.739387</td>\n",
              "    </tr>\n",
              "  </tbody>\n",
              "</table>\n",
              "</div>"
            ],
            "text/plain": [
              "        gini   entropy\n",
              "1   0.770358  0.770358\n",
              "2   0.770635  0.770635\n",
              "3   0.765359  0.766562\n",
              "4   0.775015  0.777137\n",
              "5   0.779150  0.778704\n",
              "6   0.774637  0.777148\n",
              "7   0.784154  0.773229\n",
              "8   0.752837  0.765391\n",
              "9   0.754481  0.760618\n",
              "10  0.747951  0.751778\n",
              "11  0.758764  0.751159\n",
              "12  0.742711  0.742551\n",
              "13  0.746520  0.738480\n",
              "14  0.749473  0.739387"
            ]
          },
          "metadata": {
            "tags": []
          },
          "execution_count": 115
        }
      ]
    },
    {
      "cell_type": "markdown",
      "metadata": {
        "id": "aDNgMD-Sg1lb"
      },
      "source": [
        "#модель леса"
      ]
    },
    {
      "cell_type": "code",
      "metadata": {
        "id": "m2N-eg6tcM6K",
        "colab": {
          "base_uri": "https://localhost:8080/",
          "height": 825
        },
        "outputId": "88635b0b-f40d-4795-c553-a50ba6494317"
      },
      "source": [
        "from sklearn.ensemble import RandomForestClassifier\r\n",
        "\r\n",
        "rf_clf = RandomForestClassifier(max_depth=7,criterion='gini')\r\n",
        "rf_clf.fit(X_train_scaled, y_train)\r\n",
        "y_pred=rf_clf.predict(X_test_scaled)\r\n",
        "f1 = f1_score(y_test,y_pred)\r\n",
        "print(f'f1_score={f1}')\r\n",
        "show_importance(rf_clf, recovered_feat_names, X_train)"
      ],
      "execution_count": 116,
      "outputs": [
        {
          "output_type": "stream",
          "text": [
            "f1_score=0.6976744186046512\n",
            "Feature: Sex_female | 0.22296956265752643\n",
            "Feature: Sex_male | 0.23035381074699393\n",
            "Feature: Embarked_C | 0.01826651304750619\n",
            "Feature: Embarked_Q | 0.006931990535342987\n",
            "Feature: Embarked_S | 0.018315563648138303\n",
            "Feature: Age | 0.21192756025028747\n",
            "Feature: Fare | 0.2912349991142046\n"
          ],
          "name": "stdout"
        },
        {
          "output_type": "display_data",
          "data": {
            "image/png": "[encoded data removed]",
            "text/plain": [
              "<Figure size 1080x720 with 1 Axes>"
            ]
          },
          "metadata": {
            "tags": [],
            "needs_background": "light"
          }
        }
      ]
    }
  ]
}