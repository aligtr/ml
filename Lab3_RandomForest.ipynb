{
  "nbformat": 4,
  "nbformat_minor": 0,
  "metadata": {
    "colab": {
      "name": "Lab3_RandomForest.ipynb",
      "provenance": [],
      "collapsed_sections": [],
      "toc_visible": true,
      "include_colab_link": true
    },
    "kernelspec": {
      "name": "python3",
      "display_name": "Python 3"
    }
  },
  "cells": [
    {
      "cell_type": "markdown",
      "metadata": {
        "id": "view-in-github",
        "colab_type": "text"
      },
      "source": [
        "<a href=\"https://colab.research.google.com/github/aligtr/ml/blob/master/Lab3_RandomForest.ipynb\" target=\"_parent\"><img src=\"https://colab.research.google.com/assets/colab-badge.svg\" alt=\"Open In Colab\"/></a>"
      ]
    },
    {
      "cell_type": "code",
      "metadata": {
        "id": "5np0f8d6n5ti"
      },
      "source": [
        "# Импорт необходимых модулей \n",
        "import matplotlib\n",
        "import seaborn as sns\n",
        "import matplotlib.pyplot as plt\n",
        "import numpy as np\n",
        "import pandas as pd\n",
        "\n",
        "# Настройки для визуализации\n",
        "# Если используется темная тема - лучше текст сделать белым\n",
        "TEXT_COLOR = 'black'\n",
        "\n",
        "matplotlib.rcParams['figure.figsize'] = (15, 10)\n",
        "matplotlib.rcParams['text.color'] = 'black'\n",
        "matplotlib.rcParams['font.size'] = 14\n",
        "matplotlib.rcParams['axes.labelcolor'] = TEXT_COLOR\n",
        "matplotlib.rcParams['xtick.color'] = TEXT_COLOR\n",
        "matplotlib.rcParams['ytick.color'] = TEXT_COLOR\n",
        "\n",
        "# Зафиксируем состояние случайных чисел\n",
        "RANDOM_STATE = 42\n",
        "np.random.seed(RANDOM_STATE)"
      ],
      "execution_count": null,
      "outputs": []
    },
    {
      "cell_type": "markdown",
      "metadata": {
        "id": "u4dJttl0xebt"
      },
      "source": [
        "# Случайные леса на Титанике\n",
        "\n",
        "Ахой, дамы и господа! Мы уже знакомились с игрушечными задачками для решения, когда данных было не так много и в них не было особо проблем: ни пропусков, ни строковых значений - все уже готово для модели. В этот раз мы возьмем данные посложнее и посмотрим, как работать с наиболее распространенными случаями предобработки!\n",
        "\n",
        "В этот раз мы идем в плавание и планируем научиться предсказывать выживет ли человек или нет! В этом нам поможет набор данных с Kaggle - [Titanic: Machine Learning from Disaster](https://www.kaggle.com/c/titanic). Вы можете скачать данные прямо с сайта, ну а мы для примеров возьмем уже скачанный файл данных:"
      ]
    },
    {
      "cell_type": "code",
      "metadata": {
        "id": "zeAnrA_b5JuW",
        "colab": {
          "base_uri": "https://localhost:8080/",
          "height": 229
        },
        "outputId": "c9c02455-d74d-46a9-dd81-1d94087722f1"
      },
      "source": [
        "URL = 'https://raw.githubusercontent.com/KaiL4eK/ml_edu/master/datasets/Titanic_train.csv'\n",
        "src_df = pd.read_csv(URL)\n",
        "src_df.head()"
      ],
      "execution_count": null,
      "outputs": [
        {
          "output_type": "execute_result",
          "data": {
            "text/html": [
              "<div>\n",
              "<style scoped>\n",
              "    .dataframe tbody tr th:only-of-type {\n",
              "        vertical-align: middle;\n",
              "    }\n",
              "\n",
              "    .dataframe tbody tr th {\n",
              "        vertical-align: top;\n",
              "    }\n",
              "\n",
              "    .dataframe thead th {\n",
              "        text-align: right;\n",
              "    }\n",
              "</style>\n",
              "<table border=\"1\" class=\"dataframe\">\n",
              "  <thead>\n",
              "    <tr style=\"text-align: right;\">\n",
              "      <th></th>\n",
              "      <th>PassengerId</th>\n",
              "      <th>Survived</th>\n",
              "      <th>Pclass</th>\n",
              "      <th>Name</th>\n",
              "      <th>Sex</th>\n",
              "      <th>Age</th>\n",
              "      <th>SibSp</th>\n",
              "      <th>Parch</th>\n",
              "      <th>Ticket</th>\n",
              "      <th>Fare</th>\n",
              "      <th>Cabin</th>\n",
              "      <th>Embarked</th>\n",
              "    </tr>\n",
              "  </thead>\n",
              "  <tbody>\n",
              "    <tr>\n",
              "      <th>0</th>\n",
              "      <td>1</td>\n",
              "      <td>0</td>\n",
              "      <td>3</td>\n",
              "      <td>Braund, Mr. Owen Harris</td>\n",
              "      <td>male</td>\n",
              "      <td>22.0</td>\n",
              "      <td>1</td>\n",
              "      <td>0</td>\n",
              "      <td>A/5 21171</td>\n",
              "      <td>7.2500</td>\n",
              "      <td>NaN</td>\n",
              "      <td>S</td>\n",
              "    </tr>\n",
              "    <tr>\n",
              "      <th>1</th>\n",
              "      <td>2</td>\n",
              "      <td>1</td>\n",
              "      <td>1</td>\n",
              "      <td>Cumings, Mrs. John Bradley (Florence Briggs Th...</td>\n",
              "      <td>female</td>\n",
              "      <td>38.0</td>\n",
              "      <td>1</td>\n",
              "      <td>0</td>\n",
              "      <td>PC 17599</td>\n",
              "      <td>71.2833</td>\n",
              "      <td>C85</td>\n",
              "      <td>C</td>\n",
              "    </tr>\n",
              "    <tr>\n",
              "      <th>2</th>\n",
              "      <td>3</td>\n",
              "      <td>1</td>\n",
              "      <td>3</td>\n",
              "      <td>Heikkinen, Miss. Laina</td>\n",
              "      <td>female</td>\n",
              "      <td>26.0</td>\n",
              "      <td>0</td>\n",
              "      <td>0</td>\n",
              "      <td>STON/O2. 3101282</td>\n",
              "      <td>7.9250</td>\n",
              "      <td>NaN</td>\n",
              "      <td>S</td>\n",
              "    </tr>\n",
              "    <tr>\n",
              "      <th>3</th>\n",
              "      <td>4</td>\n",
              "      <td>1</td>\n",
              "      <td>1</td>\n",
              "      <td>Futrelle, Mrs. Jacques Heath (Lily May Peel)</td>\n",
              "      <td>female</td>\n",
              "      <td>35.0</td>\n",
              "      <td>1</td>\n",
              "      <td>0</td>\n",
              "      <td>113803</td>\n",
              "      <td>53.1000</td>\n",
              "      <td>C123</td>\n",
              "      <td>S</td>\n",
              "    </tr>\n",
              "    <tr>\n",
              "      <th>4</th>\n",
              "      <td>5</td>\n",
              "      <td>0</td>\n",
              "      <td>3</td>\n",
              "      <td>Allen, Mr. William Henry</td>\n",
              "      <td>male</td>\n",
              "      <td>35.0</td>\n",
              "      <td>0</td>\n",
              "      <td>0</td>\n",
              "      <td>373450</td>\n",
              "      <td>8.0500</td>\n",
              "      <td>NaN</td>\n",
              "      <td>S</td>\n",
              "    </tr>\n",
              "  </tbody>\n",
              "</table>\n",
              "</div>"
            ],
            "text/plain": [
              "   PassengerId  Survived  Pclass  ...     Fare Cabin  Embarked\n",
              "0            1         0       3  ...   7.2500   NaN         S\n",
              "1            2         1       1  ...  71.2833   C85         C\n",
              "2            3         1       3  ...   7.9250   NaN         S\n",
              "3            4         1       1  ...  53.1000  C123         S\n",
              "4            5         0       3  ...   8.0500   NaN         S\n",
              "\n",
              "[5 rows x 12 columns]"
            ]
          },
          "metadata": {
            "tags": []
          },
          "execution_count": 3
        }
      ]
    },
    {
      "cell_type": "markdown",
      "metadata": {
        "id": "KWDH8wwu5U2x"
      },
      "source": [
        "На официальном сайте предоставлена информация по данным, сделаем краткое обобщение:\n",
        "- `Survived` - (Целевая переменная) булевая переменная - выжил или нет;\n",
        "- `PassengerId` - уникальный идентификатор пассажира; \n",
        "- `Pclass` - класс обслуживания;\n",
        "- `Name` - имя пассажира;\n",
        "- `Sex` - пол пассажира;\n",
        "- `Age` - возраст пассажира (вещественное - возраст менее 1; х.5 - призблизительная оценка);\n",
        "- `SibSp` - количество родственников на борту (братья, сестры, мужья, жены);\n",
        "- `Parch` - количество родственников на борту (матери, отцы, дочери, сыновья);\n",
        "- `Ticket` - номер билета;\n",
        "- `Fare` - плата за проезд;\n",
        "- `Cabin` - номер кабины;\n",
        "- `Embarked` - порт посадки."
      ]
    },
    {
      "cell_type": "code",
      "metadata": {
        "id": "Y0H4LHTU5UkB",
        "colab": {
          "base_uri": "https://localhost:8080/"
        },
        "outputId": "a064475d-95fc-4f19-ac6e-8adbd4455fb9"
      },
      "source": [
        "print(f'Shape of data: {src_df.shape}')\n",
        "print(src_df.columns)"
      ],
      "execution_count": null,
      "outputs": [
        {
          "output_type": "stream",
          "text": [
            "Shape of data: (891, 12)\n",
            "Index(['PassengerId', 'Survived', 'Pclass', 'Name', 'Sex', 'Age', 'SibSp',\n",
            "       'Parch', 'Ticket', 'Fare', 'Cabin', 'Embarked'],\n",
            "      dtype='object')\n"
          ],
          "name": "stdout"
        }
      ]
    },
    {
      "cell_type": "code",
      "metadata": {
        "id": "5mU02duL5gx-",
        "colab": {
          "base_uri": "https://localhost:8080/"
        },
        "outputId": "81d35562-ca9c-4dec-8fc5-35fd481d683b"
      },
      "source": [
        "src_df.info()"
      ],
      "execution_count": null,
      "outputs": [
        {
          "output_type": "stream",
          "text": [
            "<class 'pandas.core.frame.DataFrame'>\n",
            "RangeIndex: 891 entries, 0 to 890\n",
            "Data columns (total 12 columns):\n",
            " #   Column       Non-Null Count  Dtype  \n",
            "---  ------       --------------  -----  \n",
            " 0   PassengerId  891 non-null    int64  \n",
            " 1   Survived     891 non-null    int64  \n",
            " 2   Pclass       891 non-null    int64  \n",
            " 3   Name         891 non-null    object \n",
            " 4   Sex          891 non-null    object \n",
            " 5   Age          714 non-null    float64\n",
            " 6   SibSp        891 non-null    int64  \n",
            " 7   Parch        891 non-null    int64  \n",
            " 8   Ticket       891 non-null    object \n",
            " 9   Fare         891 non-null    float64\n",
            " 10  Cabin        204 non-null    object \n",
            " 11  Embarked     889 non-null    object \n",
            "dtypes: float64(2), int64(5), object(5)\n",
            "memory usage: 83.7+ KB\n"
          ],
          "name": "stdout"
        }
      ]
    },
    {
      "cell_type": "markdown",
      "metadata": {
        "id": "Myhjy7s25e3X"
      },
      "source": [
        "Видим 891 запись, 12 колонок: 11 колонок данных и целевая переменная. Как видно из `.info()` - данные имеют пропуск и имеются колонки с типом `object`, что означает наличие строковых (а то и еще каких) данных. Давайте разберемся, как нам сделать базовую предобработку, чтобы построить первую модель!"
      ]
    },
    {
      "cell_type": "markdown",
      "metadata": {
        "id": "uQKsstFB55lv"
      },
      "source": [
        "# Базовый анализ данных\n",
        "\n",
        "В этой части мы пройдемся по дополнительным методам подготовки данных для построения базовой модели (к тем, что мы изучили ранее). Целью базового анализа является первое знакомство с данными и подготовка к формату, который позволяет модели работать с данными - численная 2D матрица."
      ]
    },
    {
      "cell_type": "markdown",
      "metadata": {
        "id": "8XjFWC1r6O7S"
      },
      "source": [
        "## Анализ признаков\n",
        "\n",
        "При работе с данными первым делом необходимо понять, что значит каждый признак, какие в нем есть значения и пригодится ли он в работе. Для начала самыми подозрительными признаками являются признаки со строчными или целочисленными значениями, которые имеют слишком много уникальных значений. Как правило к категориальным такое отнести уже сложно, поэтому такие признаки чаще всего исключаются. Для примера возьмем признак `PassengerId`. С виду это какой-то индетификацтор, но взглянем на количество уникальных знчений:"
      ]
    },
    {
      "cell_type": "code",
      "metadata": {
        "id": "hJgHLaYs7ts3",
        "colab": {
          "base_uri": "https://localhost:8080/"
        },
        "outputId": "f5c07792-10f7-4615-b531-0363ee461f15"
      },
      "source": [
        "print(src_df['PassengerId'].nunique())\n",
        "print(src_df['PassengerId'].count())\n",
        "src_df['PassengerId'].head()"
      ],
      "execution_count": null,
      "outputs": [
        {
          "output_type": "stream",
          "text": [
            "891\n",
            "891\n"
          ],
          "name": "stdout"
        },
        {
          "output_type": "execute_result",
          "data": {
            "text/plain": [
              "0    1\n",
              "1    2\n",
              "2    3\n",
              "3    4\n",
              "4    5\n",
              "Name: PassengerId, dtype: int64"
            ]
          },
          "metadata": {
            "tags": []
          },
          "execution_count": 6
        }
      ]
    },
    {
      "cell_type": "markdown",
      "metadata": {
        "id": "Ycdaiwbv71B5"
      },
      "source": [
        "Как видно, абсолютно все значения уникальны, что означает невозможность применения данного признака в работе и он должен быть исключен. Аналогично имеет смысл проверить остальные признаки. Вещественные значения признаков часто также имеют очень много уникальных значений, но их либо сразу относят к типу признаков **непрерывные (численные)**, либо проводят более глубокий анализ.\n",
        "\n",
        "Полезной практикой является проводить в начале унивариативный анализ, показывающий характеристики каждого признака и что с ним можно/нужно сделать в качестве первого этапа базового анализа.\n",
        "\n",
        "Для колонок с типом `object` полезно воспользоваться методом `Series.describe()`:"
      ]
    },
    {
      "cell_type": "code",
      "metadata": {
        "id": "Q6Igi5pL8j0s",
        "colab": {
          "base_uri": "https://localhost:8080/"
        },
        "outputId": "b3635513-38ed-4990-8234-1a5ae9737f6a"
      },
      "source": [
        "src_df['Name'].describe()"
      ],
      "execution_count": null,
      "outputs": [
        {
          "output_type": "execute_result",
          "data": {
            "text/plain": [
              "count                          891\n",
              "unique                         891\n",
              "top       Morrow, Mr. Thomas Rowan\n",
              "freq                             1\n",
              "Name: Name, dtype: object"
            ]
          },
          "metadata": {
            "tags": []
          },
          "execution_count": 7
        }
      ]
    },
    {
      "cell_type": "markdown",
      "metadata": {
        "id": "Vk6ow1TG9Mdk"
      },
      "source": [
        "**Вывод:** самым первым этапом базового анализа является анализ признаков, который проводится по каждому признаку с целью определить применимость, необходимость коррекции и другие особенности и проблемы."
      ]
    },
    {
      "cell_type": "markdown",
      "metadata": {
        "id": "xjprXtZr-iEF"
      },
      "source": [
        "## Заполнение пропусков\n",
        "\n",
        "Для просмотра количества пропусков удобно воспользоаться проверкой на `null` и затем вывести сумму по колонкам:"
      ]
    },
    {
      "cell_type": "code",
      "metadata": {
        "id": "a7W5B1CP-taD",
        "colab": {
          "base_uri": "https://localhost:8080/"
        },
        "outputId": "0f2eff09-bfe5-46d4-ae66-b8091ebd019e"
      },
      "source": [
        "src_df.isnull().sum()"
      ],
      "execution_count": null,
      "outputs": [
        {
          "output_type": "execute_result",
          "data": {
            "text/plain": [
              "PassengerId      0\n",
              "Survived         0\n",
              "Pclass           0\n",
              "Name             0\n",
              "Sex              0\n",
              "Age            177\n",
              "SibSp            0\n",
              "Parch            0\n",
              "Ticket           0\n",
              "Fare             0\n",
              "Cabin          687\n",
              "Embarked         2\n",
              "dtype: int64"
            ]
          },
          "metadata": {
            "tags": []
          },
          "execution_count": 8
        }
      ]
    },
    {
      "cell_type": "markdown",
      "metadata": {
        "id": "s1ZXJNOo-vs6"
      },
      "source": [
        "По результатам отображения количества пропусков видно, что данные имеют пропуски и требуется произвести их обработку, так как данные в таком виде не могут быть применены для построения модели.\n",
        "\n",
        "Существует огромное количество возможных вариантов работы с пропусками (https://scikit-learn.org/stable/modules/impute.html):\n",
        "- Исключение признаков (колонок), имеющих пропуски;\n",
        "- Исключение записей (строк), имеющих пропуски;\n",
        "- Заполнение пропусков средним/медианным значением признака (**Унивариативное** заполнение - Используется единственный признак);\n",
        "- Заполнение пропусков наиболее частым значением признака (мода);\n",
        "- Заполнение путем построения регрессионной модели по остальным признакам (**Мультивариативное** заполнение - используется несколько признаков);\n",
        "- и т.д.\n",
        "\n",
        "Так, например, признак `Age` имеет 177 пропущенных значений, что является достаточно большим количеством, чтобы исключить записи с пропусками. Признак также невозможно исключить, так как он имеет информативный характер (возраст часто связывают со способностью к выживанию). Таким образом, можно воспользоваться `sklearn.impute.SimpleImputer` со стратегией заполнения `mean`, чтобы заполнить пропущенные данные на основе статистики остальных данных данного признака."
      ]
    },
    {
      "cell_type": "code",
      "metadata": {
        "id": "xGfBcMsx-zJT"
      },
      "source": [
        "from sklearn.impute import SimpleImputer\n",
        "\n",
        "imp = SimpleImputer(strategy='mean')\n",
        "# Двойные скобки использованы, чтобы передать в fit() 2D массив\n",
        "X_in = src_df[['Age']]\n",
        "print(X_in.shape)\n",
        "\n",
        "src_df['Age'] = imp.fit_transform(X_in)\n",
        "src_df.isnull().sum()"
      ],
      "execution_count": null,
      "outputs": []
    },
    {
      "cell_type": "markdown",
      "metadata": {
        "id": "-WAgzKBg_H4m"
      },
      "source": [
        "Вот так мы убедились в том, что метод работает! Исходя из распределения данных лучше выбирать стратегию по следующему признаку:\n",
        "- Гауссово распределение - стратегия `mean`, так как в нормальном расрпделении наиболее частое ~ среднее значение;\n",
        "- Ненормальное распределение - стратегия `meadian`, чтобы получить близкое к наиболее частому значению.\n",
        "\n",
        "Для категориальных признаков наиболее простым методом является стратегия `most_frequent`, когда берется наиболее частое значение:"
      ]
    },
    {
      "cell_type": "code",
      "metadata": {
        "id": "JLLcdhD5_39x",
        "colab": {
          "base_uri": "https://localhost:8080/"
        },
        "outputId": "c7c64233-431f-4791-da23-c3e944ed7738"
      },
      "source": [
        "imp = SimpleImputer(strategy='most_frequent')\n",
        "src_df['Embarked'] = imp.fit_transform(src_df[['Embarked']])\n",
        "\n",
        "src_df.isnull().sum()"
      ],
      "execution_count": null,
      "outputs": [
        {
          "output_type": "execute_result",
          "data": {
            "text/plain": [
              "PassengerId      0\n",
              "Survived         0\n",
              "Pclass           0\n",
              "Name             0\n",
              "Sex              0\n",
              "Age              0\n",
              "SibSp            0\n",
              "Parch            0\n",
              "Ticket           0\n",
              "Fare             0\n",
              "Cabin          687\n",
              "Embarked         0\n",
              "dtype: int64"
            ]
          },
          "metadata": {
            "tags": []
          },
          "execution_count": 10
        }
      ]
    },
    {
      "cell_type": "markdown",
      "metadata": {
        "id": "HIFB5fZ6AUd5"
      },
      "source": [
        "Другим методом работы с пропусками является исключение признаков из-за слишком большого количества пропусков:\n"
      ]
    },
    {
      "cell_type": "code",
      "metadata": {
        "id": "SMiDKCY3AgbP",
        "colab": {
          "base_uri": "https://localhost:8080/"
        },
        "outputId": "241c538c-6fbb-442c-cc70-56bad461eba5"
      },
      "source": [
        "src_df['Cabin'].isnull().sum()/src_df.shape[0]"
      ],
      "execution_count": null,
      "outputs": [
        {
          "output_type": "execute_result",
          "data": {
            "text/plain": [
              "0.7710437710437711"
            ]
          },
          "metadata": {
            "tags": []
          },
          "execution_count": 11
        }
      ]
    },
    {
      "cell_type": "markdown",
      "metadata": {
        "id": "12iTKgdSAm46"
      },
      "source": [
        "77% - это слишком большое количество пропусков, чтобы пытаться заполнить!"
      ]
    },
    {
      "cell_type": "markdown",
      "metadata": {
        "id": "I-zkmSBY_9LP"
      },
      "source": [
        "## Кодирование признаков\n",
        "\n",
        "Как уже ранее обсуждалось, признаки бывают разные:\n",
        "- Непрерывные (численные) - вещественные или целочисленные (чаще всего представляются типом `float` и `int`);\n",
        "- Категориальные - могут быть представлены строками или числами с небольшим количеством уникальных значений, они могут быть разделены на следующие подтипы:\n",
        "    - Номинальные - значения признаков ограничены группой возможных значений (красный/синий/зеленый);\n",
        "    - Бинарные - те же номинальные, но всего две группы (Да/Нет, Правда/Ложь);\n",
        "    - Последовательные - те же номинальные, но еще группы имеют порядок (плохой/хороший/отличный).\n",
        "\n",
        "Непрерывные признаки с точки зрения базового анализа не требуют особой предобработки, так как они уже представлены числами. Можно лишь попробовать провести их стандартизацию.\n",
        "\n",
        "С категориальными часто бывает чуть сложнее. Наибольшую проблему составляют признаки, которые представлены строками, например признак `Embarked`:"
      ]
    },
    {
      "cell_type": "code",
      "metadata": {
        "id": "wnG3Qx8wACV7",
        "colab": {
          "base_uri": "https://localhost:8080/"
        },
        "outputId": "a48638d2-7f57-4792-aaf9-35dd1d48bde9"
      },
      "source": [
        "src_df.info()\n",
        "src_df['Embarked'].value_counts()"
      ],
      "execution_count": null,
      "outputs": [
        {
          "output_type": "stream",
          "text": [
            "<class 'pandas.core.frame.DataFrame'>\n",
            "RangeIndex: 891 entries, 0 to 890\n",
            "Data columns (total 12 columns):\n",
            " #   Column       Non-Null Count  Dtype  \n",
            "---  ------       --------------  -----  \n",
            " 0   PassengerId  891 non-null    int64  \n",
            " 1   Survived     891 non-null    int64  \n",
            " 2   Pclass       891 non-null    int64  \n",
            " 3   Name         891 non-null    object \n",
            " 4   Sex          891 non-null    object \n",
            " 5   Age          891 non-null    float64\n",
            " 6   SibSp        891 non-null    int64  \n",
            " 7   Parch        891 non-null    int64  \n",
            " 8   Ticket       891 non-null    object \n",
            " 9   Fare         891 non-null    float64\n",
            " 10  Cabin        204 non-null    object \n",
            " 11  Embarked     891 non-null    object \n",
            "dtypes: float64(2), int64(5), object(5)\n",
            "memory usage: 83.7+ KB\n"
          ],
          "name": "stdout"
        },
        {
          "output_type": "execute_result",
          "data": {
            "text/plain": [
              "S    646\n",
              "C    168\n",
              "Q     77\n",
              "Name: Embarked, dtype: int64"
            ]
          },
          "metadata": {
            "tags": []
          },
          "execution_count": 12
        }
      ]
    },
    {
      "cell_type": "markdown",
      "metadata": {
        "id": "6yd5SqQHAHAm"
      },
      "source": [
        "Этот признак представлен в данных типом `object` - строка, при этом мы видим, что уникальных значений мало, а это наводит на мысль, что признак - категориальный. Теперь важно понять, имеют ли значения порядок или они независимы? В данном случае логично предположить, что независимы, поэтому присваиваем тип - категориальные номинальный.\n",
        "\n",
        "Но мало просто присвоить тип, нам же нужно подготовить данные для модели, а значит как-то представить в численном виде эти строки.\n",
        "\n",
        "Для этого нам может помочь кодирование One-Hot! Давайте посмотрим, как это делается в `sklearn`:"
      ]
    },
    {
      "cell_type": "code",
      "metadata": {
        "id": "ZdJGQqDdAIMp",
        "colab": {
          "base_uri": "https://localhost:8080/"
        },
        "outputId": "1068685c-0d42-495b-a503-20bf4477ba0f"
      },
      "source": [
        "from sklearn.preprocessing import OneHotEncoder\n",
        "\n",
        "# Мы отключим создание разреженного представления, но оно оптимальнее для хранения\n",
        "# Поэтому для отладки лучше использовать и проверять dense представление,\n",
        "#   а для работы в конечном представлении - sparse\n",
        "oh_enc = OneHotEncoder(sparse=False)\n",
        "\n",
        "# Любой энкодер ненавидит пропуски в данных, поэтому перед использованием\n",
        "#   заполните пропуски в данных\n",
        "X_sample = src_df[['Embarked']]\n",
        "print(X_sample.shape)\n",
        "\n",
        "oh_enc.fit(X_sample)"
      ],
      "execution_count": null,
      "outputs": [
        {
          "output_type": "stream",
          "text": [
            "(891, 1)\n"
          ],
          "name": "stdout"
        },
        {
          "output_type": "execute_result",
          "data": {
            "text/plain": [
              "OneHotEncoder(categories='auto', drop=None, dtype=<class 'numpy.float64'>,\n",
              "              handle_unknown='error', sparse=False)"
            ]
          },
          "metadata": {
            "tags": []
          },
          "execution_count": 13
        }
      ]
    },
    {
      "cell_type": "code",
      "metadata": {
        "id": "4kmcAb54A2O_",
        "colab": {
          "base_uri": "https://localhost:8080/"
        },
        "outputId": "b8400c32-5a53-4707-c320-f4eef9c96e5c"
      },
      "source": [
        "# Можно проверить, какие есть категории\n",
        "oh_enc.categories_"
      ],
      "execution_count": null,
      "outputs": [
        {
          "output_type": "execute_result",
          "data": {
            "text/plain": [
              "[array(['C', 'Q', 'S'], dtype=object)]"
            ]
          },
          "metadata": {
            "tags": []
          },
          "execution_count": 14
        }
      ]
    },
    {
      "cell_type": "code",
      "metadata": {
        "id": "HHSDyg-UA8-8",
        "colab": {
          "base_uri": "https://localhost:8080/"
        },
        "outputId": "a1b25fa9-b6ad-43f9-d73b-6c73a0cf656d"
      },
      "source": [
        "# Также посмотреть, что происходит после кодирования с данными\n",
        "X_sample_ohe = oh_enc.transform(X_sample)\n",
        "\n",
        "print(X_sample[:6])\n",
        "print(X_sample_ohe[:6])"
      ],
      "execution_count": null,
      "outputs": [
        {
          "output_type": "stream",
          "text": [
            "  Embarked\n",
            "0        S\n",
            "1        C\n",
            "2        S\n",
            "3        S\n",
            "4        S\n",
            "5        Q\n",
            "[[0. 0. 1.]\n",
            " [1. 0. 0.]\n",
            " [0. 0. 1.]\n",
            " [0. 0. 1.]\n",
            " [0. 0. 1.]\n",
            " [0. 1. 0.]]\n"
          ],
          "name": "stdout"
        }
      ]
    },
    {
      "cell_type": "markdown",
      "metadata": {
        "id": "_14IW5_PA9zj"
      },
      "source": [
        "> Теперь попробуйте поменять флаг `sparse` на `True` и посмотреть на результат кодирования. *Dense* (плотное) представление матрицы - это то, к чему мы привыкли, но есть и более экономное - *sparse* (разреженное). В этом случае матрица представлена в виде списка пар (или `dict`), в котором первым элементом (или ключем) обозначается положение в матрице, а вторым - значение. В случае с OHE кодированием sparse представление - дело обычное!\n",
        "\n",
        "\n",
        "Еще одним важным аргументом является поведение энкодера при поступлении новых данных, которые он раньше не видел. Тут многое зависит от задачи, но можно сделать так, чтобы он выдавал ошибку или игнорировал новую категорию, которая не была в обучающих данных:\n",
        "\n"
      ]
    },
    {
      "cell_type": "code",
      "metadata": {
        "id": "bNt2sNLdDdbT",
        "colab": {
          "base_uri": "https://localhost:8080/"
        },
        "outputId": "6443c1b8-f18f-4d9a-80e9-13c5e9dfdfab"
      },
      "source": [
        "# Кидаем исключение, если появилась ранее невиданная категория\n",
        "oh_enc = OneHotEncoder(sparse=False, handle_unknown='error')\n",
        "oh_enc.fit(src_df[['Embarked']])\n",
        "\n",
        "# Воспользуемся try-except, чтобы поймать ошибку\n",
        "try:\n",
        "    print(oh_enc.transform(np.array([['K']])))\n",
        "except Exception as e:\n",
        "    print(f'Error happened: {e}')"
      ],
      "execution_count": null,
      "outputs": [
        {
          "output_type": "stream",
          "text": [
            "Error happened: Found unknown categories ['K'] in column 0 during transform\n"
          ],
          "name": "stdout"
        }
      ]
    },
    {
      "cell_type": "code",
      "metadata": {
        "id": "YUduZqy9ESwZ"
      },
      "source": [
        "# Или просто игнорируем\n",
        "oh_enc = OneHotEncoder(sparse=False, handle_unknown='ignore')\n",
        "oh_enc.fit(src_df[['Embarked']])\n",
        "\n",
        "# Воспользуемся try-except, чтобы поймать ошибку\n",
        "try:\n",
        "    print(oh_enc.transform(np.array([['K']])))\n",
        "except Exception as e:\n",
        "    print(f'Error happened: {e}')"
      ],
      "execution_count": null,
      "outputs": []
    },
    {
      "cell_type": "markdown",
      "metadata": {
        "id": "-g7wBFZBEXEP"
      },
      "source": [
        "1. Первый способ (ошибка) - удобен для проверки, что данные соответсвуют формату и все происходит так как надо - жесткая логика. \n",
        "2. Второй вариант (игнорировать) - более мягкая, но тут надо учитывать, что при обучении модель должна уметь обрабатывать ранее невиданные данные. Такой способ удобен, когда мы сами задаем список категорий:"
      ]
    },
    {
      "cell_type": "code",
      "metadata": {
        "id": "ShF2xo05E40B",
        "colab": {
          "base_uri": "https://localhost:8080/"
        },
        "outputId": "97127a62-fe15-41fa-e8a5-abdfffc98600"
      },
      "source": [
        "# Или просто игнорируем\n",
        "oh_enc = OneHotEncoder(sparse=False, handle_unknown='ignore', categories=[['C', 'Q']])\n",
        "X_sample = src_df[['Embarked']]\n",
        "oh_enc.fit(X_sample)\n",
        "\n",
        "X_sample_ohe = oh_enc.transform(X_sample)\n",
        "\n",
        "print(X_sample[:6])\n",
        "print(X_sample_ohe[:6])"
      ],
      "execution_count": null,
      "outputs": [
        {
          "output_type": "stream",
          "text": [
            "  Embarked\n",
            "0        S\n",
            "1        C\n",
            "2        S\n",
            "3        S\n",
            "4        S\n",
            "5        Q\n",
            "[[0. 0.]\n",
            " [1. 0.]\n",
            " [0. 0.]\n",
            " [0. 0.]\n",
            " [0. 0.]\n",
            " [0. 1.]]\n"
          ],
          "name": "stdout"
        }
      ]
    },
    {
      "cell_type": "markdown",
      "metadata": {
        "id": "lf_KRGRCCrAX"
      },
      "source": [
        "# Полноценная предобработка\n",
        "\n",
        "Когда мы разобрались с тем, как нужно обработать признаки, мы можем поступить двумя способами:\n",
        "- Написать свой код предобработки, протестировать, сохранить категории при кодировании, параметры стандартизации и другие этапы;\n",
        "- Воспользоваться готовыми инструментами, которые делают все действия и на этапе `.fit()` вычисляют и запоминают параметры, чтобы далее во время `.transform()` их применять!\n",
        "\n",
        "Первый способ подходит, когда нет готового инструмента, но `sklearn` имеет огромный арсенал по предобработке, а также можно посмотреть другие фреймворки!\n",
        "\n",
        "Мы пойдем вторым способом и познакомимся с двумя полезными инструментами: [`Pipeline`](https://scikit-learn.org/stable/modules/generated/sklearn.pipeline.Pipeline.html) и [`ColumnTransformer`](https://scikit-learn.org/stable/modules/generated/sklearn.compose.ColumnTransformer.html).\n",
        "\n",
        "Пайплайн позволяет собирать несколько этапов обработки/моделей воедино, чтобы затем пользоваться им как единым целым! Для примера наша обработка категориальных признаков может состоять из двух этапов:"
      ]
    },
    {
      "cell_type": "code",
      "metadata": {
        "id": "iN86MMBfGNLN"
      },
      "source": [
        "from sklearn.pipeline import Pipeline\n",
        "\n",
        "categorical_features = ['Sex', 'Embarked']\n",
        "\n",
        "# Создаем обработчик категориальный признаков\n",
        "# Так как имеются пропущенные данные в Embarked - \n",
        "#   создадим Pipeline для выполнения нескольких шагов\n",
        "categorical_transformer = Pipeline(\n",
        "    # Шаги в Pipeline указываются как кортежи, каждый из которых\n",
        "    #   представляет собой (имя шага, трансформер)\n",
        "    steps=[\n",
        "        ('imp', SimpleImputer(strategy='most_frequent')),\n",
        "        # Опять sparse для отладки = False\n",
        "        ('enc', OneHotEncoder(sparse=False, handle_unknown='error')),                   \n",
        "])"
      ],
      "execution_count": null,
      "outputs": []
    },
    {
      "cell_type": "markdown",
      "metadata": {
        "id": "1gZFo3AdGdw4"
      },
      "source": [
        "Далее, мы снова загрузим данные, чтобы восстановить те проблемы, которые решались до этого и воспользуемся реализацией пайплайна:"
      ]
    },
    {
      "cell_type": "code",
      "metadata": {
        "id": "LssphTHEGmpF",
        "colab": {
          "base_uri": "https://localhost:8080/"
        },
        "outputId": "d05001f7-2bd6-42ce-9610-acd3ff9b90a9"
      },
      "source": [
        "URL = 'https://raw.githubusercontent.com/KaiL4eK/ml_edu/master/datasets/Titanic_train.csv'\n",
        "df = pd.read_csv(URL)\n",
        "\n",
        "categorical_transformer.fit(df[categorical_features])\n",
        "\n",
        "X_transformed = categorical_transformer.transform(df[categorical_features])\n",
        "print(df[categorical_features][:3])\n",
        "print(X_transformed[:3])"
      ],
      "execution_count": null,
      "outputs": [
        {
          "output_type": "stream",
          "text": [
            "      Sex Embarked\n",
            "0    male        S\n",
            "1  female        C\n",
            "2  female        S\n",
            "[[0. 1. 0. 0. 1.]\n",
            " [1. 0. 1. 0. 0.]\n",
            " [1. 0. 0. 0. 1.]]\n"
          ],
          "name": "stdout"
        }
      ]
    },
    {
      "cell_type": "code",
      "metadata": {
        "id": "ExESS5S1GvqN",
        "colab": {
          "base_uri": "https://localhost:8080/"
        },
        "outputId": "f945868f-e840-4bec-d4a5-da77a1bbafab"
      },
      "source": [
        "# До конкретных шагов можно добраться через атрибут named_steps\n",
        "categorical_transformer.named_steps['enc'].categories_"
      ],
      "execution_count": null,
      "outputs": [
        {
          "output_type": "execute_result",
          "data": {
            "text/plain": [
              "[array(['female', 'male'], dtype=object), array(['C', 'Q', 'S'], dtype=object)]"
            ]
          },
          "metadata": {
            "tags": []
          },
          "execution_count": 21
        }
      ]
    },
    {
      "cell_type": "code",
      "metadata": {
        "id": "YdNzdRBWHE4N",
        "colab": {
          "base_uri": "https://localhost:8080/"
        },
        "outputId": "85e4d752-5721-4521-bda2-1918a3edd788"
      },
      "source": [
        "# Или посмотреть названия признаков после кодирования\n",
        "categorical_transformer.named_steps['enc'].get_feature_names(categorical_features)"
      ],
      "execution_count": null,
      "outputs": [
        {
          "output_type": "execute_result",
          "data": {
            "text/plain": [
              "array(['Sex_female', 'Sex_male', 'Embarked_C', 'Embarked_Q', 'Embarked_S'],\n",
              "      dtype=object)"
            ]
          },
          "metadata": {
            "tags": []
          },
          "execution_count": 22
        }
      ]
    },
    {
      "cell_type": "markdown",
      "metadata": {
        "id": "U39FbWL4HKyo"
      },
      "source": [
        "> Если обратить внимание, то можно заметить, что `OneHotEncoder` генерирует признаки по количеству категорий, хотя признак `Sex` можно закодировать 0 или 1. Для этого есть аргумент в конструкторе `drop`, который управляет исключением лишних данных. Если его применить, то признак `Sex` в закодированном виде будет представлен всего одной колонкой, что выглядет логичнее.\n",
        "\n",
        "Пайплайн очень удобен тем, что это полноценный объект настраиваемой предобработки, который можно один раз собрать и далее активно пользоваться! Более того, его можно сохранить в файл (сериализация) и затем переносить с сохраненными параметрами!\n",
        "\n",
        "Также, пайплайн позволяет добраться до своих этапов, чтобы получить необходимые атрибуты!\n",
        "\n",
        "Теперь перейдем к другому классу - преобразователь колонок! Его применение в том, чтобы также собирать шаги обработки, но уже указывая, на какие колонки, какая обработка. То есть в пайплайн мы явно передавали данные. `ColumnTransformer` позволяет настроить всю линию предобработки, указывая, какую колонку, чем обрабатывать:"
      ]
    },
    {
      "cell_type": "code",
      "metadata": {
        "id": "8JquUK-TH99f",
        "colab": {
          "base_uri": "https://localhost:8080/"
        },
        "outputId": "fed1aa91-42fe-4e27-da4e-dc43b38a5651"
      },
      "source": [
        "from sklearn.compose import ColumnTransformer\n",
        "\n",
        "# Составляет список признаков для обработки\n",
        "categorical_features = ['Sex', 'Embarked']\n",
        "numeric_features = ['Age', 'Fare']\n",
        "\n",
        "# Создаем обработчик категориальных признаков\n",
        "categorical_transformer = Pipeline(\n",
        "    steps=[\n",
        "        ('imp', SimpleImputer(strategy='most_frequent')),\n",
        "        ('enc', OneHotEncoder(handle_unknown='error')),                   \n",
        "])\n",
        "\n",
        "# Численные значения имеют пропуски, заполним стратегией медианы\n",
        "numeric_transformer = SimpleImputer(strategy='median')\n",
        "\n",
        "# Создаем конечный конвертер, который будет использован для \n",
        "#   предобработки\n",
        "preprocessor = ColumnTransformer(\n",
        "    # Список конвертеров, каждый кортеж содержит\n",
        "    #   имя, конвертер и признаки, на которые он будет применен\n",
        "    transformers=[\n",
        "        ('cat', categorical_transformer, categorical_features),\n",
        "        ('num', numeric_transformer, numeric_features)\n",
        "    ],\n",
        "    # Признаки, не указанные ни в одном из конвертеров будут удалены\n",
        "    remainder='drop'\n",
        ")\n",
        "\n",
        "preprocessor.fit(df)\n",
        "\n",
        "X_data = preprocessor.transform(df)\n",
        "print(type(X_data))\n",
        "print(X_data)"
      ],
      "execution_count": null,
      "outputs": [
        {
          "output_type": "stream",
          "text": [
            "<class 'numpy.ndarray'>\n",
            "[[ 0.      1.      0.     ...  1.     22.      7.25  ]\n",
            " [ 1.      0.      1.     ...  0.     38.     71.2833]\n",
            " [ 1.      0.      0.     ...  1.     26.      7.925 ]\n",
            " ...\n",
            " [ 1.      0.      0.     ...  1.     28.     23.45  ]\n",
            " [ 0.      1.      1.     ...  0.     26.     30.    ]\n",
            " [ 0.      1.      0.     ...  0.     32.      7.75  ]]\n"
          ],
          "name": "stdout"
        }
      ]
    },
    {
      "cell_type": "markdown",
      "metadata": {
        "id": "P3_9B1OvHB9Q"
      },
      "source": [
        "На выходе конвертера получается числовая матрица numpy, которую можно уже передавать на вход модели. При этом трансформер колонок позволяет также получать доступ до своих составляющих через атрибут `named_transformers_`:"
      ]
    },
    {
      "cell_type": "code",
      "metadata": {
        "id": "XcrfnxtSJR1O",
        "colab": {
          "base_uri": "https://localhost:8080/"
        },
        "outputId": "1672815f-8b37-4912-d568-89c26d49242f"
      },
      "source": [
        "# Получим объект пайплайна категориальных признаков\n",
        "pipe = preprocessor.named_transformers_['cat']\n",
        "# Отобразим категории OHE для шага кодирования\n",
        "print(pipe.named_steps['enc'].categories_)"
      ],
      "execution_count": null,
      "outputs": [
        {
          "output_type": "stream",
          "text": [
            "[array(['female', 'male'], dtype=object), array(['C', 'Q', 'S'], dtype=object)]\n"
          ],
          "name": "stdout"
        }
      ]
    },
    {
      "cell_type": "markdown",
      "metadata": {
        "id": "Hbe7k4B2J-Vo"
      },
      "source": [
        "При желании можно восстановить представление DataFrame, если из всех шагов собрать имена столбцов результирующей матрицы, но это нужно в редких случаях. А мы всё-таки сделаем для примера:\n",
        "\n"
      ]
    },
    {
      "cell_type": "code",
      "metadata": {
        "id": "EltBOZl0OLp7",
        "colab": {
          "base_uri": "https://localhost:8080/",
          "height": 195
        },
        "outputId": "c16b1473-6ff1-41e3-d7ac-e28bb3a6fe91"
      },
      "source": [
        "# Для того, чтобы получить имена признаков, воспользуемся функцией\n",
        "#   OneHotEncoder.get_feature_names()\n",
        "# Чтобы ею воспользоваться, необходимо добраться до объекта через атрибуты\n",
        "#   - ColumnTransformer.named_transformers_ + ключ имени\n",
        "#   - Pipeline.named_steps + ключ шага\n",
        "ohe_column_names = preprocessor \\\n",
        "    .named_transformers_['cat'] \\\n",
        "    .named_steps['enc'] \\\n",
        "    .get_feature_names(categorical_features)\n",
        "\n",
        "recovered_feat_names = \\\n",
        "    list(ohe_column_names) + \\\n",
        "    list(numeric_features)\n",
        "\n",
        "df_enc = pd.DataFrame(X_data, columns=recovered_feat_names)\n",
        "\n",
        "df_enc.head()"
      ],
      "execution_count": null,
      "outputs": [
        {
          "output_type": "execute_result",
          "data": {
            "text/html": [
              "<div>\n",
              "<style scoped>\n",
              "    .dataframe tbody tr th:only-of-type {\n",
              "        vertical-align: middle;\n",
              "    }\n",
              "\n",
              "    .dataframe tbody tr th {\n",
              "        vertical-align: top;\n",
              "    }\n",
              "\n",
              "    .dataframe thead th {\n",
              "        text-align: right;\n",
              "    }\n",
              "</style>\n",
              "<table border=\"1\" class=\"dataframe\">\n",
              "  <thead>\n",
              "    <tr style=\"text-align: right;\">\n",
              "      <th></th>\n",
              "      <th>Sex_female</th>\n",
              "      <th>Sex_male</th>\n",
              "      <th>Embarked_C</th>\n",
              "      <th>Embarked_Q</th>\n",
              "      <th>Embarked_S</th>\n",
              "      <th>Age</th>\n",
              "      <th>Fare</th>\n",
              "    </tr>\n",
              "  </thead>\n",
              "  <tbody>\n",
              "    <tr>\n",
              "      <th>0</th>\n",
              "      <td>0.0</td>\n",
              "      <td>1.0</td>\n",
              "      <td>0.0</td>\n",
              "      <td>0.0</td>\n",
              "      <td>1.0</td>\n",
              "      <td>22.0</td>\n",
              "      <td>7.2500</td>\n",
              "    </tr>\n",
              "    <tr>\n",
              "      <th>1</th>\n",
              "      <td>1.0</td>\n",
              "      <td>0.0</td>\n",
              "      <td>1.0</td>\n",
              "      <td>0.0</td>\n",
              "      <td>0.0</td>\n",
              "      <td>38.0</td>\n",
              "      <td>71.2833</td>\n",
              "    </tr>\n",
              "    <tr>\n",
              "      <th>2</th>\n",
              "      <td>1.0</td>\n",
              "      <td>0.0</td>\n",
              "      <td>0.0</td>\n",
              "      <td>0.0</td>\n",
              "      <td>1.0</td>\n",
              "      <td>26.0</td>\n",
              "      <td>7.9250</td>\n",
              "    </tr>\n",
              "    <tr>\n",
              "      <th>3</th>\n",
              "      <td>1.0</td>\n",
              "      <td>0.0</td>\n",
              "      <td>0.0</td>\n",
              "      <td>0.0</td>\n",
              "      <td>1.0</td>\n",
              "      <td>35.0</td>\n",
              "      <td>53.1000</td>\n",
              "    </tr>\n",
              "    <tr>\n",
              "      <th>4</th>\n",
              "      <td>0.0</td>\n",
              "      <td>1.0</td>\n",
              "      <td>0.0</td>\n",
              "      <td>0.0</td>\n",
              "      <td>1.0</td>\n",
              "      <td>35.0</td>\n",
              "      <td>8.0500</td>\n",
              "    </tr>\n",
              "  </tbody>\n",
              "</table>\n",
              "</div>"
            ],
            "text/plain": [
              "   Sex_female  Sex_male  Embarked_C  Embarked_Q  Embarked_S   Age     Fare\n",
              "0         0.0       1.0         0.0         0.0         1.0  22.0   7.2500\n",
              "1         1.0       0.0         1.0         0.0         0.0  38.0  71.2833\n",
              "2         1.0       0.0         0.0         0.0         1.0  26.0   7.9250\n",
              "3         1.0       0.0         0.0         0.0         1.0  35.0  53.1000\n",
              "4         0.0       1.0         0.0         0.0         1.0  35.0   8.0500"
            ]
          },
          "metadata": {
            "tags": []
          },
          "execution_count": 26
        }
      ]
    },
    {
      "cell_type": "code",
      "metadata": {
        "id": "NWO9io8VOUoW",
        "colab": {
          "base_uri": "https://localhost:8080/",
          "height": 195
        },
        "outputId": "4ee4c422-886e-427d-d8ba-2c487a122b3e"
      },
      "source": [
        "# Для сравнения выведем исходные данные\n",
        "df[categorical_features + numeric_features].head()"
      ],
      "execution_count": null,
      "outputs": [
        {
          "output_type": "execute_result",
          "data": {
            "text/html": [
              "<div>\n",
              "<style scoped>\n",
              "    .dataframe tbody tr th:only-of-type {\n",
              "        vertical-align: middle;\n",
              "    }\n",
              "\n",
              "    .dataframe tbody tr th {\n",
              "        vertical-align: top;\n",
              "    }\n",
              "\n",
              "    .dataframe thead th {\n",
              "        text-align: right;\n",
              "    }\n",
              "</style>\n",
              "<table border=\"1\" class=\"dataframe\">\n",
              "  <thead>\n",
              "    <tr style=\"text-align: right;\">\n",
              "      <th></th>\n",
              "      <th>Sex</th>\n",
              "      <th>Embarked</th>\n",
              "      <th>Age</th>\n",
              "      <th>Fare</th>\n",
              "    </tr>\n",
              "  </thead>\n",
              "  <tbody>\n",
              "    <tr>\n",
              "      <th>0</th>\n",
              "      <td>male</td>\n",
              "      <td>S</td>\n",
              "      <td>22.0</td>\n",
              "      <td>7.2500</td>\n",
              "    </tr>\n",
              "    <tr>\n",
              "      <th>1</th>\n",
              "      <td>female</td>\n",
              "      <td>C</td>\n",
              "      <td>38.0</td>\n",
              "      <td>71.2833</td>\n",
              "    </tr>\n",
              "    <tr>\n",
              "      <th>2</th>\n",
              "      <td>female</td>\n",
              "      <td>S</td>\n",
              "      <td>26.0</td>\n",
              "      <td>7.9250</td>\n",
              "    </tr>\n",
              "    <tr>\n",
              "      <th>3</th>\n",
              "      <td>female</td>\n",
              "      <td>S</td>\n",
              "      <td>35.0</td>\n",
              "      <td>53.1000</td>\n",
              "    </tr>\n",
              "    <tr>\n",
              "      <th>4</th>\n",
              "      <td>male</td>\n",
              "      <td>S</td>\n",
              "      <td>35.0</td>\n",
              "      <td>8.0500</td>\n",
              "    </tr>\n",
              "  </tbody>\n",
              "</table>\n",
              "</div>"
            ],
            "text/plain": [
              "      Sex Embarked   Age     Fare\n",
              "0    male        S  22.0   7.2500\n",
              "1  female        C  38.0  71.2833\n",
              "2  female        S  26.0   7.9250\n",
              "3  female        S  35.0  53.1000\n",
              "4    male        S  35.0   8.0500"
            ]
          },
          "metadata": {
            "tags": []
          },
          "execution_count": 27
        }
      ]
    },
    {
      "cell_type": "markdown",
      "metadata": {
        "id": "Wl-Ddd89OL-b"
      },
      "source": [
        "\n",
        "Сутью данного инструмента является сбор инструментов обработки в единый объект уже после этапа поиска подходящих инструментов!\n",
        "\n",
        "Аналогично, нынешний объект `preprocessor` можно разместить внутрь пайплайна вместе с моделью предсказания!\n",
        "![Ну монитор](https://cs8.pikabu.ru/images/big_size_comm/2017-06_6/149883834117099533.jpg)"
      ]
    },
    {
      "cell_type": "markdown",
      "metadata": {
        "id": "v-3jlaUKEbUz"
      },
      "source": [
        "# Разработка модели случайного леса"
      ]
    },
    {
      "cell_type": "markdown",
      "metadata": {
        "id": "v2BKnEhyEe-Q"
      },
      "source": [
        "Подход с использование случайного леса (RandomForest) является одним из подходов группы под названием **ансамблирование**.\n",
        "\n",
        "Ансамблирование - это парадигма, при которой большое количество слабых моделей собираются в группу и принятие конечного решения делается на основе голосования этих моделей. Основной девиз - много слабых моделей дают лучший результат, чем одна большая.\n",
        "\n",
        "Подход RandomForest организует набор *решающих деревьев*. Решающее дерево - бинарное дерево, в котором узлами являются пороги одного из обученных признаков, листьями - предсказываемые классы.\n",
        "\n",
        "Для примера обучим решающее дерево для задачи XOR."
      ]
    },
    {
      "cell_type": "code",
      "metadata": {
        "id": "1lizKt-FGA2J"
      },
      "source": [
        "import numpy as np\n",
        "\n",
        "# Пример решающего дерева на основе задачи XOR\n",
        "X = np.array([\n",
        "     [1, 1],\n",
        "     [1, 0],\n",
        "     [0, 1],\n",
        "     [0, 0]\n",
        "])\n",
        "\n",
        "y = np.array([\n",
        "     0,\n",
        "     1,\n",
        "     1,\n",
        "     0\n",
        "])\n",
        "\n",
        "plt.figure(figsize=[5,5])\n",
        "plt.scatter(X[y==1, 0], X[y==1, 1], marker='o')\n",
        "plt.scatter(X[y==0, 0], X[y==0, 1], marker='x')\n",
        "plt.xlabel('X[0]')\n",
        "plt.ylabel('X[1]')\n",
        "plt.xlim([-0.5, 1.5])\n",
        "plt.grid()\n",
        "\n",
        "from sklearn.tree import DecisionTreeClassifier, plot_tree\n",
        "\n",
        "tree = DecisionTreeClassifier(random_state=42)\n",
        "tree.fit(X, y)\n",
        "\n",
        "plt.figure()\n",
        "plot_tree(tree, filled=True, rounded=True, impurity=True, class_names=['0', '1'])\n"
      ],
      "execution_count": null,
      "outputs": []
    },
    {
      "cell_type": "markdown",
      "metadata": {
        "id": "3Vbk1g4YIzmP"
      },
      "source": [
        "На рисунке представлена визуализация обученного дерева решения для нелинейной задачи XOR. Как видно, каждый узел определяет порог признака, так решение сходится до листьев, в котором и определяется конечное решение дерева (предсказанный класс)."
      ]
    },
    {
      "cell_type": "markdown",
      "metadata": {
        "id": "IRMl2ZIBJ3cO"
      },
      "source": [
        "Случайный лес работает по принципу набора таких деревьев:\n",
        "\n",
        "![Замещающий текст](https://miro.medium.com/max/500/1*VHDtVaDPNepRglIAv72BFg.jpeg)\n",
        "\n",
        "Обучение деревьев происходит на основе алгоритма построения дерева (один из них - [CART](http://pages.stat.wisc.edu/~loh/treeprogs/guide/wires11.pdf)  ~ Classification and regression trees). Построение происходит по принципу поиска наилучших разделений пространства на основе одного из признаков для создания узла и дальнейшего роста.\n",
        "\n",
        "Одной из важных особенностей случайного леса является то, что для обучения каждое дерево из леса получает не полную выборку, а лишь подвыборку из всей обучающей выборки. Такой принцип назван **Bagging**.\n",
        "\n",
        "Деревья сами по себе очень чувствительны ко входным данным, так как могут бесконечно создавать узлы по признакам, чтобы максимально точно разделить классы. По факту, дерево очень легко переобучается на тех данных, которые даны для обучения (построения), если не ограничить глубину дерева.\n",
        "\n",
        "Поэтому при построении каждого малого дерева используется подвыборка, куда могут попадать с повторениями случайные записи из данных со случайными признаками. Таким образом, каждая модель будет видеть лишь часть данных, при этом отдельно каждая слабая модель будет работать плохо, но в совокупности все модели будут давать более точную среднюю оценку в соответсвии с принятием решения по большинству голосов."
      ]
    },
    {
      "cell_type": "code",
      "metadata": {
        "id": "QwZTs7_E4mxs",
        "colab": {
          "base_uri": "https://localhost:8080/"
        },
        "outputId": "02589bf9-be82-4da1-dd64-04dd4ad503dc"
      },
      "source": [
        "from sklearn.model_selection import train_test_split\n",
        "\n",
        "TRAIN_RATIO = 0.8\n",
        "\n",
        "y_data = df['Survived']\n",
        "\n",
        "X_train, X_test, y_train, y_test = train_test_split(\n",
        "    X_data, y_data, \n",
        "    train_size=TRAIN_RATIO, \n",
        "    random_state=RANDOM_STATE,\n",
        "    stratify=y_data\n",
        ")\n",
        "\n",
        "print(X_train.shape, y_train.shape)\n",
        "print(X_test.shape, y_test.shape)"
      ],
      "execution_count": null,
      "outputs": [
        {
          "output_type": "stream",
          "text": [
            "(712, 7) (712,)\n",
            "(179, 7) (179,)\n"
          ],
          "name": "stdout"
        }
      ]
    },
    {
      "cell_type": "code",
      "metadata": {
        "id": "KXN4pILYp-fR",
        "colab": {
          "base_uri": "https://localhost:8080/"
        },
        "outputId": "b7634c12-b7f3-4195-ed4d-abab0effaa03"
      },
      "source": [
        "from sklearn.ensemble import RandomForestClassifier\n",
        "\n",
        "rf_clf = RandomForestClassifier()\n",
        "rf_clf.fit(X_train, y_train)"
      ],
      "execution_count": null,
      "outputs": [
        {
          "output_type": "execute_result",
          "data": {
            "text/plain": [
              "RandomForestClassifier(bootstrap=True, ccp_alpha=0.0, class_weight=None,\n",
              "                       criterion='gini', max_depth=None, max_features='auto',\n",
              "                       max_leaf_nodes=None, max_samples=None,\n",
              "                       min_impurity_decrease=0.0, min_impurity_split=None,\n",
              "                       min_samples_leaf=1, min_samples_split=2,\n",
              "                       min_weight_fraction_leaf=0.0, n_estimators=100,\n",
              "                       n_jobs=None, oob_score=False, random_state=None,\n",
              "                       verbose=0, warm_start=False)"
            ]
          },
          "metadata": {
            "tags": []
          },
          "execution_count": 30
        }
      ]
    },
    {
      "cell_type": "markdown",
      "metadata": {
        "id": "RzunrMbXoN7Y"
      },
      "source": [
        "# Важность признаков\n",
        "\n",
        "Обучение модели случайного леса позволяет получить оценку важности признаков! Для работы с показателями важности признаков достаточно воспользоваться атрибутом `RandomForestClassifier.feature_importances_`:"
      ]
    },
    {
      "cell_type": "code",
      "metadata": {
        "id": "s7Dxqam-qRoX",
        "colab": {
          "base_uri": "https://localhost:8080/",
          "height": 808
        },
        "outputId": "cfb2ae4d-c2c0-4c3b-8ead-e7e84657b37c"
      },
      "source": [
        "def show_importance(model, feature_names, X):\n",
        "    importances = model.feature_importances_\n",
        "    for feat_imp, feat_name in zip(importances, feature_names):\n",
        "        print(f'Feature: {feat_name} | {feat_imp}')\n",
        "\n",
        "    indices = np.argsort(importances)[::-1]\n",
        "    sorted_feat_names = [feature_names[ind] for ind in indices]\n",
        "\n",
        "    plt.figure()\n",
        "    plt.title(\"Feature importances\")\n",
        "    plt.bar(range(X.shape[1]), importances[indices], color=\"b\", align=\"center\")\n",
        "    plt.xticks(range(X.shape[1]), sorted_feat_names, rotation=70)\n",
        "    plt.xlim([-1, X.shape[1]])\n",
        "    plt.show()\n",
        "\n",
        "show_importance(rf_clf, recovered_feat_names, X_train)"
      ],
      "execution_count": null,
      "outputs": [
        {
          "output_type": "stream",
          "text": [
            "Feature: Sex_female | 0.15224129686733381\n",
            "Feature: Sex_male | 0.14384419737286344\n",
            "Feature: Embarked_C | 0.011105298934466924\n",
            "Feature: Embarked_Q | 0.004819245681205841\n",
            "Feature: Embarked_S | 0.013524060985120172\n",
            "Feature: Age | 0.2941428805908806\n",
            "Feature: Fare | 0.3803230195681293\n"
          ],
          "name": "stdout"
        },
        {
          "output_type": "display_data",
          "data": {
            "image/png": "[encoded data removed]",
            "text/plain": [
              "<Figure size 1080x720 with 1 Axes>"
            ]
          },
          "metadata": {
            "tags": [],
            "needs_background": "light"
          }
        }
      ]
    },
    {
      "cell_type": "markdown",
      "metadata": {
        "id": "0TqmtpDirZG4"
      },
      "source": [
        "Такой график показывает, как признаки влияли на построение деревьев и насколько каждый из них важен по отношению к другим. \n",
        "\n",
        "> **ВАЖНО:** Несмотря на то, что цель графика - показать, насколько важны признаки для предсказания, **нельзя** полагаться лишь на результаты анализа лесом! Часто такая оценка важности смещена. Для более полного анализа в заданиях попробуйте воспользоваться подходом под названием *Feature Elimination*, который более точно позволяет оценить, какие признаки имеют высокое влияние на принимаемое решение модели! Суть подхода в том, что мы постепенно удаляем один за другим признаки из данных и оцениваем, как это повлияло на работу модели."
      ]
    },
    {
      "cell_type": "markdown",
      "metadata": {
        "id": "J6JRKX9SPI55"
      },
      "source": [
        "# Расширенный анализ данных\n",
        "\n",
        "Результаты построения baseline модели как правило позволяют оценить результаты, которые можно получить наиболее быстрым способом. Дальнейших улучшений можно добиться как настраиванием модели и усложнением алгоритма, так и поиском \"инсайтов\" в данных, что позволит модели более просто понимать зависимости и принимать правильные решения. Для расширения знаний и подходов предлагаю ознакомиться с [хорошей статьей по EDA](https://towardsdatascience.com/predicting-the-survival-of-titanic-passengers-30870ccc7e8), а мы рассмотрим несколько основных способов проанализировать данные и сделать выводы."
      ]
    },
    {
      "cell_type": "markdown",
      "metadata": {
        "id": "g3rwugsCQntR"
      },
      "source": [
        "### Больше графиков!"
      ]
    },
    {
      "cell_type": "markdown",
      "metadata": {
        "id": "KHC3u0UgP1d9"
      },
      "source": [
        "Один из самых простых способов проверить пользу признака - анализ нескольких признаков в совокупности, чтобы понять, какие взаимосвязи имеются и дает ли признак информацию. Начнем с того, что постараемся определить, кто чаще выживает - мужчины или женщины:"
      ]
    },
    {
      "cell_type": "code",
      "metadata": {
        "id": "JOqClg-dQMyT",
        "colab": {
          "base_uri": "https://localhost:8080/",
          "height": 396
        },
        "outputId": "d1d45dd0-9645-436b-d1bc-32cfac503dfe"
      },
      "source": [
        "sns.catplot(x=\"Sex\", hue=\"Survived\", kind=\"count\", data=df)"
      ],
      "execution_count": null,
      "outputs": [
        {
          "output_type": "execute_result",
          "data": {
            "text/plain": [
              "<seaborn.axisgrid.FacetGrid at 0x7fc8010b67f0>"
            ]
          },
          "metadata": {
            "tags": []
          },
          "execution_count": 32
        },
        {
          "output_type": "display_data",
          "data": {
            "image/png": "[encoded data removed]",
            "text/plain": [
              "<Figure size 432.825x360 with 1 Axes>"
            ]
          },
          "metadata": {
            "tags": [],
            "needs_background": "light"
          }
        }
      ]
    },
    {
      "cell_type": "markdown",
      "metadata": {
        "id": "vB9lnFfTQPAV"
      },
      "source": [
        "Ответ на графике - выживаемость (Survived = 1) у женского пола больше, что означает необходимость использвания данного признака, так как он влияет на конечное решение! Если бы графики были ровные (все на одном уровне), мы бы не могли по полу человека сказать, кто скорее всего выживет, а значит такой признак бесполезен!"
      ]
    },
    {
      "cell_type": "markdown",
      "metadata": {
        "id": "VK7V7MUHTjyN"
      },
      "source": [
        "Еще одним интересный признак `Pclass`, класс обслуживания, можно проверить, влияет ли он на выживаемость:"
      ]
    },
    {
      "cell_type": "code",
      "metadata": {
        "id": "Pq7J7MptTt0N",
        "colab": {
          "base_uri": "https://localhost:8080/",
          "height": 631
        },
        "outputId": "278e8b33-b585-4b41-e0f4-686e5220a689"
      },
      "source": [
        "sns.barplot(x='Pclass', y='Survived', data=df)"
      ],
      "execution_count": null,
      "outputs": [
        {
          "output_type": "execute_result",
          "data": {
            "text/plain": [
              "<matplotlib.axes._subplots.AxesSubplot at 0x7fc8010b6588>"
            ]
          },
          "metadata": {
            "tags": []
          },
          "execution_count": 33
        },
        {
          "output_type": "display_data",
          "data": {
            "image/png": "[encoded data removed]",
            "text/plain": [
              "<Figure size 1080x720 with 1 Axes>"
            ]
          },
          "metadata": {
            "tags": [],
            "needs_background": "light"
          }
        }
      ]
    },
    {
      "cell_type": "markdown",
      "metadata": {
        "id": "CGK8EjIrQp6J"
      },
      "source": [
        "Как видно, класс тоже вносит свое влияние в выживаемость: обслуживание первого класса более склонно к выживанию.\n",
        "\n",
        "Также можно влияние признака проверить отображением через `sns.FacetGrid`, чтобы проверить все значения, связанные с несколькими признаками:"
      ]
    },
    {
      "cell_type": "code",
      "metadata": {
        "id": "Q2uxeuFNSNFl",
        "colab": {
          "base_uri": "https://localhost:8080/",
          "height": 990
        },
        "outputId": "3956fbdc-34d4-4bc1-ac48-56936b611cc2"
      },
      "source": [
        "FacetGrid = sns.FacetGrid(df, row='Embarked', height=4.5, aspect=1.6)\n",
        "FacetGrid.map(sns.pointplot, 'Pclass', 'Survived', 'Sex', palette=None,  order=None, hue_order=None)\n",
        "FacetGrid.add_legend()"
      ],
      "execution_count": null,
      "outputs": [
        {
          "output_type": "execute_result",
          "data": {
            "text/plain": [
              "<seaborn.axisgrid.FacetGrid at 0x7fc8010c1b00>"
            ]
          },
          "metadata": {
            "tags": []
          },
          "execution_count": 34
        },
        {
          "output_type": "display_data",
          "data": {
            "image/png": "[encoded data removed]",
            "text/plain": [
              "<Figure size 617.3x972 with 3 Axes>"
            ]
          },
          "metadata": {
            "tags": [],
            "needs_background": "light"
          }
        }
      ]
    },
    {
      "cell_type": "markdown",
      "metadata": {
        "id": "HiaWOyaHUBQl"
      },
      "source": [
        "Как видно, в зависимости от порта посадки, а одних случаях (порты Q и S) женский пол имеет большие шансы на выживание, чего не скажешь о порте C. Тоже свой вклад в предсказания."
      ]
    },
    {
      "cell_type": "markdown",
      "metadata": {
        "id": "1QBBWh_qUX27"
      },
      "source": [
        "## Создание новых признаков\n",
        "\n",
        "Помимо исключения признаков одним из широкоприменяемых подходов является создание новых признаков. Для примера, наличие двух признаков `SibSp` и `Parch` сообщает информацию о количестве родственников на борту. Таким образом, можно сформировать дополнительный признак `FamilySize`."
      ]
    },
    {
      "cell_type": "code",
      "metadata": {
        "id": "BDUAzI3qUc6c"
      },
      "source": [
        "# +1 - we are in family too\n",
        "df['FamilySize'] = df['Parch'] + df['SibSp'] + 1"
      ],
      "execution_count": null,
      "outputs": []
    },
    {
      "cell_type": "markdown",
      "metadata": {
        "id": "PPBQjUK6Ueco"
      },
      "source": [
        "Новые признаки являются производными от исходных признаков, при этом зависимости не всегда могут являться линейными (например, из даты получить бинарную информацию, является ли день выходным или нет). Такие признаки могут помочь модели найти новые зависимостии и повысить точность.\n",
        "\n",
        "> Как и ранее с генерацией полиномиальных признаков, можно проводить базовые операции над признаками (унивариативно или над несколькими). С одной стороны, можно делать операции на основе логических допущений - если вы понимаете, что новые признаки точно дадут новую информацию. В другой стороны, можно просто перебирать, пока не найдете такие операции, которые дадут прирост в точности, но это бывает долго и неэффективно.\n",
        "\n",
        "Для примера после того, как мы создали свой признак \"размер семьи\", то можно отобразить единый график шансов выживания:"
      ]
    },
    {
      "cell_type": "code",
      "metadata": {
        "id": "xosyxIECUq81",
        "colab": {
          "base_uri": "https://localhost:8080/",
          "height": 614
        },
        "outputId": "902d6b25-7c4f-41da-a439-17ea5747e6ec"
      },
      "source": [
        "axes = sns.pointplot(x='FamilySize', y='Survived', data=df)"
      ],
      "execution_count": null,
      "outputs": [
        {
          "output_type": "display_data",
          "data": {
            "image/png": "[encoded data removed]",
            "text/plain": [
              "<Figure size 1080x720 with 1 Axes>"
            ]
          },
          "metadata": {
            "tags": [],
            "needs_background": "light"
          }
        }
      ]
    },
    {
      "cell_type": "markdown",
      "metadata": {
        "id": "NRr6E7SKUg_i"
      },
      "source": [
        "По такому графику можем видеть, что в зависимости от количества членов семьи меняются и шансы на выживание, при этом есть некоторая \"критическая точка\", что в четыре человека выжить больше шансов, нежели дальнейшее увеличение количества людей в семье на борту."
      ]
    },
    {
      "cell_type": "markdown",
      "metadata": {
        "id": "g-balBdsVlJ4"
      },
      "source": [
        "## Группировка данных (binning)\n",
        "\n",
        "Одним из способов предобработки данных является группировка численные признаков для формирования категориального признака. Суть подхода в том, чтобы заменить непрерывное значение группами, каждая из которых описывает диапазон значений. Таким образом численное значение заменяется категориальным последовательным.\n",
        "\n",
        "Такой подход является с одной стороны методом регуляризации, так как модель учится не на точных значениях, а на группах значений. С другой стороны, такой подход теряет часть информации.\n",
        "\n",
        "Для примера разберем признак `Fare`:"
      ]
    },
    {
      "cell_type": "code",
      "metadata": {
        "id": "v-u16gMOVo9C",
        "colab": {
          "base_uri": "https://localhost:8080/",
          "height": 685
        },
        "outputId": "f01a405b-1257-4a90-93f2-c3d1b9ad8701"
      },
      "source": [
        "sns.distplot(df['Fare'], bins=50)"
      ],
      "execution_count": null,
      "outputs": [
        {
          "output_type": "stream",
          "text": [
            "/usr/local/lib/python3.6/dist-packages/seaborn/distributions.py:2551: FutureWarning: `distplot` is a deprecated function and will be removed in a future version. Please adapt your code to use either `displot` (a figure-level function with similar flexibility) or `histplot` (an axes-level function for histograms).\n",
            "  warnings.warn(msg, FutureWarning)\n"
          ],
          "name": "stderr"
        },
        {
          "output_type": "execute_result",
          "data": {
            "text/plain": [
              "<matplotlib.axes._subplots.AxesSubplot at 0x7fc7fe57f860>"
            ]
          },
          "metadata": {
            "tags": []
          },
          "execution_count": 38
        },
        {
          "output_type": "display_data",
          "data": {
            "image/png": "[encoded data removed]",
            "text/plain": [
              "<Figure size 1080x720 with 1 Axes>"
            ]
          },
          "metadata": {
            "tags": [],
            "needs_background": "light"
          }
        }
      ]
    },
    {
      "cell_type": "markdown",
      "metadata": {
        "id": "xHhgSZAcVs1g"
      },
      "source": [
        "Раcпределение немного сдвинуто влево, также слева имеется небольшая мода. Для группировки воспользуется классом `KBinsDiscretizer`, который разделяет весь диапазон на заданное количество групп (бинов)."
      ]
    },
    {
      "cell_type": "code",
      "metadata": {
        "id": "N5GDtNPrVtxA",
        "colab": {
          "base_uri": "https://localhost:8080/",
          "height": 430
        },
        "outputId": "86804887-a4f0-47e6-f63d-9f837b11887a"
      },
      "source": [
        "from sklearn.preprocessing import KBinsDiscretizer\n",
        "\n",
        "discr = KBinsDiscretizer(\n",
        "    # Количество бинов    \n",
        "    n_bins=10,\n",
        "    # Способ кодирования - порядковый\n",
        "    encode='ordinal',\n",
        ")\n",
        "\n",
        "# Двойные скобки для передачи DataFrame (2D данные)\n",
        "df['Fare_groups'] = discr.fit_transform(df[['Fare']])\n",
        "# Отобразим границы бинов\n",
        "print(discr.bin_edges_)\n",
        "\n",
        "sns.catplot(x='Fare_groups', kind=\"count\", data=df)"
      ],
      "execution_count": null,
      "outputs": [
        {
          "output_type": "stream",
          "text": [
            "[array([  0.    ,   7.55  ,   7.8542,   8.05  ,  10.5   ,  14.4542,\n",
            "        21.6792,  27.    ,  39.6875,  77.9583, 512.3292])]\n"
          ],
          "name": "stdout"
        },
        {
          "output_type": "execute_result",
          "data": {
            "text/plain": [
              "<seaborn.axisgrid.FacetGrid at 0x7fc8010b6828>"
            ]
          },
          "metadata": {
            "tags": []
          },
          "execution_count": 39
        },
        {
          "output_type": "display_data",
          "data": {
            "image/png": "[encoded data removed]",
            "text/plain": [
              "<Figure size 360x360 with 1 Axes>"
            ]
          },
          "metadata": {
            "tags": [],
            "needs_background": "light"
          }
        }
      ]
    },
    {
      "cell_type": "markdown",
      "metadata": {
        "id": "qetwJxu4VxLc"
      },
      "source": [
        "Группировка, как видно, привела сильно смещенное влево распределение к равномерному.\n",
        "\n",
        "Более того, теперь мы можем визуально представить зависимость выживаемости от стоимости билета:"
      ]
    },
    {
      "cell_type": "code",
      "metadata": {
        "id": "1viL6R2rYoV4",
        "colab": {
          "base_uri": "https://localhost:8080/",
          "height": 396
        },
        "outputId": "95e4b7e9-3c7a-4031-91cc-f66d4a933539"
      },
      "source": [
        "sns.catplot(x='Fare_groups', y='Survived', data=df, kind='point')"
      ],
      "execution_count": null,
      "outputs": [
        {
          "output_type": "execute_result",
          "data": {
            "text/plain": [
              "<seaborn.axisgrid.FacetGrid at 0x7fc7fe411f98>"
            ]
          },
          "metadata": {
            "tags": []
          },
          "execution_count": 40
        },
        {
          "output_type": "display_data",
          "data": {
            "image/png": "[encoded data removed]",
            "text/plain": [
              "<Figure size 360x360 with 1 Axes>"
            ]
          },
          "metadata": {
            "tags": [],
            "needs_background": "light"
          }
        }
      ]
    },
    {
      "cell_type": "markdown",
      "metadata": {
        "id": "_MySO9JhfwYQ"
      },
      "source": [
        "или"
      ]
    },
    {
      "cell_type": "code",
      "metadata": {
        "id": "-2Xo8N-Dfw99",
        "colab": {
          "base_uri": "https://localhost:8080/",
          "height": 396
        },
        "outputId": "83506fb9-77d0-4dab-b537-ccecef5e1cfe"
      },
      "source": [
        "sns.catplot(x='Fare_groups', hue='Survived', data=df, kind='count')"
      ],
      "execution_count": null,
      "outputs": [
        {
          "output_type": "execute_result",
          "data": {
            "text/plain": [
              "<seaborn.axisgrid.FacetGrid at 0x7fc7fe42c9b0>"
            ]
          },
          "metadata": {
            "tags": []
          },
          "execution_count": 41
        },
        {
          "output_type": "display_data",
          "data": {
            "image/png": "[encoded data removed]",
            "text/plain": [
              "<Figure size 432.825x360 with 1 Axes>"
            ]
          },
          "metadata": {
            "tags": [],
            "needs_background": "light"
          }
        }
      ]
    },
    {
      "cell_type": "markdown",
      "metadata": {
        "id": "5H_58I_0ZhPf"
      },
      "source": [
        "Как видим, сгруппированный признак отображает определенную зависимость выживаемости и стоимости билета. Более высокая стоимость билета имеет больший шанс на выживание.\n",
        "\n",
        "При этом обратите внимание, что сейчас деление на группы произведено по стратегии равного количества во всех группах. Можно попробовать сделать деление по равным диапазонам групп и сравнить!"
      ]
    },
    {
      "cell_type": "markdown",
      "metadata": {
        "id": "sFvp4-nY0pQS"
      },
      "source": [
        "# Поиск гиперпараметров"
      ]
    },
    {
      "cell_type": "markdown",
      "metadata": {
        "id": "PH1FOJ-s0pwP"
      },
      "source": [
        "Как известно, многие модели имеют различные параметры, которые влияют на ход построения модели, максимальные и минимальные ограничения в структуре и др. При этом помним, что и сами модели имеют обучаемые параметры (для случая линейной регрессии, например, это веса при признаках). Те параметры, которые не участвуют в предсказании, но определяют архитектуру или другие внешние характеристики модели называют **гиперпараметрами**.\n",
        "\n",
        "Уже не раз было необходимо произвести поиск и оценку этих гиперпараметров (в KNN - количество соседелей, в Ридж регрессии - $\\alpha$). Ручной поиск хорошо справляется, когда имеется опыт и понимание работы модели, но также существуют и автоматизированные методы поиска - одним из них является **GridSearch**.\n",
        "\n",
        "Основная суть метода в том, что для каждого гиперпараметра задается набор значений, которые требуется попробовать и далее создаётся набор из всех возможных комбинаций заданных гиперпараметров и их значений. Таким образом, исследуемые значения располагаются \"как-бы на сетке\"."
      ]
    },
    {
      "cell_type": "markdown",
      "metadata": {
        "id": "y0lMOLyP00Yq"
      },
      "source": [
        "В качестве реализации воспользуемся классом `sklearn.model_selection.GridSearchCV`, который реализует GridSearch с кросс-валидацией."
      ]
    },
    {
      "cell_type": "code",
      "metadata": {
        "id": "n3sSK28h01oz",
        "colab": {
          "base_uri": "https://localhost:8080/"
        },
        "outputId": "74c447ad-b365-46de-eb76-96b1eaae6044"
      },
      "source": [
        "from sklearn.model_selection import GridSearchCV\n",
        "\n",
        "parameters = {\n",
        "    'max_depth': [1, 2, 4, 5, 7],\n",
        "    'n_estimators': [1, 5, 10, 20, 40],\n",
        "}\n",
        "\n",
        "grid_search = GridSearchCV(\n",
        "    # модель\n",
        "    estimator=rf_clf,                   \n",
        "    # сетка параметров\n",
        "    #   может быть объектом dict \n",
        "    #   или list с несколькими dict внутри (несколько сеток)\n",
        "    param_grid=parameters,              \n",
        "    # кол-во фолдов для CV\n",
        "    cv=5,                               \n",
        "    # метрика для оценки - используем F1 \n",
        "    scoring='f1_macro',   \n",
        ")\n",
        "\n",
        "grid_search.fit(X_train, y_train)"
      ],
      "execution_count": null,
      "outputs": [
        {
          "output_type": "execute_result",
          "data": {
            "text/plain": [
              "GridSearchCV(cv=5, error_score=nan,\n",
              "             estimator=RandomForestClassifier(bootstrap=True, ccp_alpha=0.0,\n",
              "                                              class_weight=None,\n",
              "                                              criterion='gini', max_depth=None,\n",
              "                                              max_features='auto',\n",
              "                                              max_leaf_nodes=None,\n",
              "                                              max_samples=None,\n",
              "                                              min_impurity_decrease=0.0,\n",
              "                                              min_impurity_split=None,\n",
              "                                              min_samples_leaf=1,\n",
              "                                              min_samples_split=2,\n",
              "                                              min_weight_fraction_leaf=0.0,\n",
              "                                              n_estimators=100, n_jobs=None,\n",
              "                                              oob_score=False,\n",
              "                                              random_state=None, verbose=0,\n",
              "                                              warm_start=False),\n",
              "             iid='deprecated', n_jobs=None,\n",
              "             param_grid={'max_depth': [1, 2, 4, 5, 7],\n",
              "                         'n_estimators': [1, 5, 10, 20, 40]},\n",
              "             pre_dispatch='2*n_jobs', refit=True, return_train_score=False,\n",
              "             scoring='f1_macro', verbose=0)"
            ]
          },
          "metadata": {
            "tags": []
          },
          "execution_count": 42
        }
      ]
    },
    {
      "cell_type": "code",
      "metadata": {
        "id": "pBq-4BahUGoc",
        "colab": {
          "base_uri": "https://localhost:8080/"
        },
        "outputId": "b4d3fb02-eee7-4778-ff6d-96510ac87ac1"
      },
      "source": [
        "# Для поиска параметров модели внутри пайплайна используется специальное именование:\n",
        "#   <название шага>__<название параметра>\n",
        "pipe = Pipeline(steps=[\n",
        "    ('clf', RandomForestClassifier()),\n",
        "])\n",
        "\n",
        "# В названии два подчеркивания!\n",
        "parameters = {\n",
        "    'clf__max_depth': [1, 2, 4, 5, 7],\n",
        "    'clf__n_estimators': [1, 5, 10, 20, 40],\n",
        "}\n",
        "\n",
        "grid_search = GridSearchCV(\n",
        "    # пайплайн\n",
        "    estimator=pipe,                   \n",
        "    param_grid=parameters,              \n",
        "    cv=5,                               \n",
        "    scoring='f1_macro',   \n",
        ")\n",
        "\n",
        "grid_search.fit(X_train, y_train)"
      ],
      "execution_count": null,
      "outputs": [
        {
          "output_type": "execute_result",
          "data": {
            "text/plain": [
              "GridSearchCV(cv=5, error_score=nan,\n",
              "             estimator=Pipeline(memory=None,\n",
              "                                steps=[('clf',\n",
              "                                        RandomForestClassifier(bootstrap=True,\n",
              "                                                               ccp_alpha=0.0,\n",
              "                                                               class_weight=None,\n",
              "                                                               criterion='gini',\n",
              "                                                               max_depth=None,\n",
              "                                                               max_features='auto',\n",
              "                                                               max_leaf_nodes=None,\n",
              "                                                               max_samples=None,\n",
              "                                                               min_impurity_decrease=0.0,\n",
              "                                                               min_impurity_split=None,\n",
              "                                                               min_samples_leaf=1,\n",
              "                                                               min_samples_split=2,\n",
              "                                                               min_weight_fraction_leaf=0.0,\n",
              "                                                               n_estimators=100,\n",
              "                                                               n_jobs=None,\n",
              "                                                               oob_score=False,\n",
              "                                                               random_state=None,\n",
              "                                                               verbose=0,\n",
              "                                                               warm_start=False))],\n",
              "                                verbose=False),\n",
              "             iid='deprecated', n_jobs=None,\n",
              "             param_grid={'clf__max_depth': [1, 2, 4, 5, 7],\n",
              "                         'clf__n_estimators': [1, 5, 10, 20, 40]},\n",
              "             pre_dispatch='2*n_jobs', refit=True, return_train_score=False,\n",
              "             scoring='f1_macro', verbose=0)"
            ]
          },
          "metadata": {
            "tags": []
          },
          "execution_count": 43
        }
      ]
    },
    {
      "cell_type": "markdown",
      "metadata": {
        "id": "9dWFNLF105-k"
      },
      "source": [
        "После того, как поиск закончен, можно посмотреть на сетку сгенерированных параметров через аттрибут `cv_results_` и ключ `params`."
      ]
    },
    {
      "cell_type": "code",
      "metadata": {
        "id": "fXP8lsIc0649",
        "colab": {
          "base_uri": "https://localhost:8080/"
        },
        "outputId": "dc5ff998-16ff-47fe-c6a0-210b22bf9875"
      },
      "source": [
        "grid_search.cv_results_['params']"
      ],
      "execution_count": null,
      "outputs": [
        {
          "output_type": "execute_result",
          "data": {
            "text/plain": [
              "[{'clf__max_depth': 1, 'clf__n_estimators': 1},\n",
              " {'clf__max_depth': 1, 'clf__n_estimators': 5},\n",
              " {'clf__max_depth': 1, 'clf__n_estimators': 10},\n",
              " {'clf__max_depth': 1, 'clf__n_estimators': 20},\n",
              " {'clf__max_depth': 1, 'clf__n_estimators': 40},\n",
              " {'clf__max_depth': 2, 'clf__n_estimators': 1},\n",
              " {'clf__max_depth': 2, 'clf__n_estimators': 5},\n",
              " {'clf__max_depth': 2, 'clf__n_estimators': 10},\n",
              " {'clf__max_depth': 2, 'clf__n_estimators': 20},\n",
              " {'clf__max_depth': 2, 'clf__n_estimators': 40},\n",
              " {'clf__max_depth': 4, 'clf__n_estimators': 1},\n",
              " {'clf__max_depth': 4, 'clf__n_estimators': 5},\n",
              " {'clf__max_depth': 4, 'clf__n_estimators': 10},\n",
              " {'clf__max_depth': 4, 'clf__n_estimators': 20},\n",
              " {'clf__max_depth': 4, 'clf__n_estimators': 40},\n",
              " {'clf__max_depth': 5, 'clf__n_estimators': 1},\n",
              " {'clf__max_depth': 5, 'clf__n_estimators': 5},\n",
              " {'clf__max_depth': 5, 'clf__n_estimators': 10},\n",
              " {'clf__max_depth': 5, 'clf__n_estimators': 20},\n",
              " {'clf__max_depth': 5, 'clf__n_estimators': 40},\n",
              " {'clf__max_depth': 7, 'clf__n_estimators': 1},\n",
              " {'clf__max_depth': 7, 'clf__n_estimators': 5},\n",
              " {'clf__max_depth': 7, 'clf__n_estimators': 10},\n",
              " {'clf__max_depth': 7, 'clf__n_estimators': 20},\n",
              " {'clf__max_depth': 7, 'clf__n_estimators': 40}]"
            ]
          },
          "metadata": {
            "tags": []
          },
          "execution_count": 44
        }
      ]
    },
    {
      "cell_type": "markdown",
      "metadata": {
        "id": "x2yKa2I50-0m"
      },
      "source": [
        "Для получения наилучших параметров и оценки можно воспользоваться аттрибутами `best_params_` и `best_score_`."
      ]
    },
    {
      "cell_type": "code",
      "metadata": {
        "id": "mzZO93G-0_Eu",
        "colab": {
          "base_uri": "https://localhost:8080/"
        },
        "outputId": "5d673702-6c50-4d02-91cc-cf1a0948d6e2"
      },
      "source": [
        "print(grid_search.best_params_)\n",
        "print(grid_search.best_score_)"
      ],
      "execution_count": null,
      "outputs": [
        {
          "output_type": "stream",
          "text": [
            "{'clf__max_depth': 4, 'clf__n_estimators': 40}\n",
            "0.7924833908496982\n"
          ],
          "name": "stdout"
        }
      ]
    },
    {
      "cell_type": "markdown",
      "metadata": {
        "id": "zs3yq1WWgclZ"
      },
      "source": [
        "Аналогично для `ColumnTransformer`, для учета этапов необходимо использовать `__` для каждой агрегации операций (пайплайн или трансформер колонок). "
      ]
    },
    {
      "cell_type": "markdown",
      "metadata": {
        "id": "o1jNdLJv8lSc"
      },
      "source": [
        "# Задачи"
      ]
    },
    {
      "cell_type": "markdown",
      "metadata": {
        "id": "-gluX0Ug8p9W"
      },
      "source": [
        "- Проведите базовый анализ данных, разделите данные на обучение/тест, разработайте baseline модель решающего дерева [DecisionTreeClassifier](https://scikit-learn.org/stable/modules/generated/sklearn.tree.DecisionTreeClassifier.html), оцените работу модели, отобразите важности признаков;\n",
        "- Разработайте модель линейной регрессии, оцените и сравните с моделью дерева;\n",
        "- Произведите стандартизацию численных признаков и оцените (сравните) работу моделей с результатами обучения без стандартизации;\n",
        "- Изучите влияние `max_depth` и `criterion` на показатели дерева, попробуйте 5 разных значений для каждого критерия, оцените с помощью кросс-валидации на обучающей выборке, сделайте таблицу;\n",
        "- Проведите расширенный анализ данных, выберите наиболее приоритетные для классификации признаки, сравните выбранные признаки с показателями важности признаков, создайте новые признаки; В результате расширенного анализа обратите внимание на следующие особенностями:\n",
        "    - Проведите создание новых признаков, добавляя каждый новый признак проведите оценку модели:\n",
        "        - `FamilySize` - размер родственников на корабле;\n",
        "        - `IsAlone` - является ли пассажир один на корабле или нет (бинарный признак);\n",
        "        - `FarePerPerson` - оплата билета на человека в семье (воспользоваться `FamilySize`);\n",
        "        - \\*`NameTitle` (если придумаете как) - название титула, сформированое из признака `Name`, редкие титулы стоит объединить в одну группу;\n",
        "    - Оцените работу модели при добавлении группировки признаков `Age`, `Fare`;\n",
        "- Обучите модель дерева и модель леса [RandomForestClassifier](https://scikit-learn.org/stable/modules/generated/sklearn.ensemble.RandomForestClassifier.html) по подготовленным данным;\n",
        "- Оцените влияние аргументов `max_depth` и `n_estimators` на точность модели (5 значений для каждого) с помощью кросс-валидации на обучающей выборке. Постройте таблицу зависимости метрик от величин;\n",
        "- Определите наилучшие параметры для модели случайного леса через [GridSearchCV](https://scikit-learn.org/stable/modules/generated/sklearn.model_selection.GridSearchCV.html);\n",
        "- Определите наилучшие параметры для модели случайного леса через [RandomizedSearchCV](https://scikit-learn.org/stable/modules/generated/sklearn.model_selection.RandomizedSearchCV.html);\n",
        "- Постройте лучшие модели леса и решающего дерева и сравните их по показателям на выборке для теста.\n",
        "- Примените подход [Recursive Feature Elimination](https://scikit-learn.org/stable/modules/generated/sklearn.feature_selection.RFE.html) на лучшую модель случайного леса. Сравните оценку важности признаков RFE и то, что показывает лес.\n",
        "- Постройте ROC кривые моделей, сравните их и сделайте выводы:\n",
        "    - лучшая модель на всех признаках;\n",
        "    - лучшая модель только на топ-7 лучших признаках по RFE;\n",
        "    - лучшая модель на топ-5 лучших признаках по RFE."
      ]
    },
    {
      "cell_type": "markdown",
      "metadata": {
        "id": "APk6mh5eMbBe"
      },
      "source": [
        "# Вопросы"
      ]
    },
    {
      "cell_type": "markdown",
      "metadata": {
        "id": "vv8T3Z8QMcFb"
      },
      "source": [
        "- Какой метод оценки модели лучше использовать в данной работе? Разделение на обучение/тест или кросс-валидация? Можно/нужно ли применять их вместе?\n",
        "- За что отвечают параметры `max_depth` и `n_estimators` в модели случайных лесов? Как они влияют на работу модели?\n",
        "- В чем отличие GridSearch от RandomSearch?\n",
        "- Как влияет стандартизация признаков на работу модели леса?\n",
        "- Что такое \"важность признака\"? Есть ли аналоги показателя в моделях линейной и логистической регрессии?\n"
      ]
    },
    {
      "cell_type": "code",
      "metadata": {
        "id": "c5RB98mrM6iR"
      },
      "source": [
        ""
      ],
      "execution_count": null,
      "outputs": []
    }
  ]
}