{
  "nbformat": 4,
  "nbformat_minor": 0,
  "metadata": {
    "colab": {
      "name": "Lab3_RandomForest.ipynb",
      "provenance": [],
      "collapsed_sections": [],
      "authorship_tag": "ABX9TyMyHooZFEQVDE7Gg+1veLZn",
      "include_colab_link": true
    },
    "kernelspec": {
      "name": "python3",
      "display_name": "Python 3"
    }
  },
  "cells": [
    {
      "cell_type": "markdown",
      "metadata": {
        "id": "view-in-github",
        "colab_type": "text"
      },
      "source": [
        "<a href=\"https://colab.research.google.com/github/aligtr/ml/blob/master/Lab3_RandomForest.ipynb\" target=\"_parent\"><img src=\"https://colab.research.google.com/assets/colab-badge.svg\" alt=\"Open In Colab\"/></a>"
      ]
    },
    {
      "cell_type": "markdown",
      "metadata": {
        "id": "z6sPqr8Lftnt"
      },
      "source": [
        "#настройка среды"
      ]
    },
    {
      "cell_type": "code",
      "metadata": {
        "id": "VlFRjUjUZ7dS"
      },
      "source": [
        "# Импорт необходимых модулей \r\n",
        "import matplotlib\r\n",
        "import seaborn as sns\r\n",
        "import matplotlib.pyplot as plt\r\n",
        "import numpy as np\r\n",
        "import pandas as pd\r\n",
        "\r\n",
        "# Настройки для визуализации\r\n",
        "# Если используется темная тема - лучше текст сделать белым\r\n",
        "TEXT_COLOR = 'black'\r\n",
        "\r\n",
        "matplotlib.rcParams['figure.figsize'] = (15, 10)\r\n",
        "matplotlib.rcParams['text.color'] = 'black'\r\n",
        "matplotlib.rcParams['font.size'] = 14\r\n",
        "matplotlib.rcParams['axes.labelcolor'] = TEXT_COLOR\r\n",
        "matplotlib.rcParams['xtick.color'] = TEXT_COLOR\r\n",
        "matplotlib.rcParams['ytick.color'] = TEXT_COLOR\r\n",
        "\r\n",
        "# Зафиксируем состояние случайных чисел\r\n",
        "RANDOM_STATE = 42\r\n",
        "np.random.seed(RANDOM_STATE)"
      ],
      "execution_count": 102,
      "outputs": []
    },
    {
      "cell_type": "markdown",
      "metadata": {
        "id": "l3JHfwoZfzzh"
      },
      "source": [
        "#загрузка данных "
      ]
    },
    {
      "cell_type": "code",
      "metadata": {
        "id": "1sELyC7gaDNl"
      },
      "source": [
        "URL = 'https://raw.githubusercontent.com/KaiL4eK/ml_edu/master/datasets/Titanic_train.csv'\r\n",
        "df = pd.read_csv(URL)"
      ],
      "execution_count": 103,
      "outputs": []
    },
    {
      "cell_type": "markdown",
      "metadata": {
        "id": "DVZx63a8f9Rh"
      },
      "source": [
        "#базовый анализ данных"
      ]
    },
    {
      "cell_type": "markdown",
      "metadata": {
        "id": "dFJJTidKFTto"
      },
      "source": [
        "исключим из данных имдентификаторы, имена и номера билетов.\r\n",
        "в имеющихся данных заполним пропуски."
      ]
    },
    {
      "cell_type": "code",
      "metadata": {
        "colab": {
          "base_uri": "https://localhost:8080/"
        },
        "id": "8JDNekahawIu",
        "outputId": "c2b877d2-9625-4eb9-b82d-7c256fafcb12"
      },
      "source": [
        "from sklearn.impute import SimpleImputer\r\n",
        "from sklearn.preprocessing import OneHotEncoder\r\n",
        "from sklearn.compose import ColumnTransformer\r\n",
        "from sklearn.pipeline import Pipeline\r\n",
        "\r\n",
        "# Составляет список признаков для обработки\r\n",
        "categorical_features = ['Sex', 'Embarked']\r\n",
        "numeric_features = ['Pclass','Age', 'Fare','SibSp',\t'Parch']\r\n",
        "\r\n",
        "# Создаем обработчик категориальных признаков\r\n",
        "categorical_transformer = Pipeline(\r\n",
        "    steps=[\r\n",
        "        ('imp', SimpleImputer(strategy='most_frequent')),\r\n",
        "        ('enc', OneHotEncoder(handle_unknown='error')),                   \r\n",
        "])\r\n",
        "\r\n",
        "# Численные значения имеют пропуски, заполним стратегией медианы\r\n",
        "numeric_transformer = SimpleImputer(strategy='median')\r\n",
        "\r\n",
        "# Создаем конечный конвертер, который будет использован для \r\n",
        "#   предобработки\r\n",
        "preprocessor = ColumnTransformer(\r\n",
        "    # Список конвертеров, каждый кортеж содержит\r\n",
        "    #   имя, конвертер и признаки, на которые он будет применен\r\n",
        "    transformers=[\r\n",
        "        ('cat', categorical_transformer, categorical_features),\r\n",
        "        ('num', numeric_transformer, numeric_features)\r\n",
        "    ],\r\n",
        "    # Признаки, не указанные ни в одном из конвертеров будут удалены\r\n",
        "    remainder='drop'\r\n",
        ")\r\n",
        "\r\n",
        "preprocessor.fit(df)\r\n",
        "\r\n",
        "X_data = preprocessor.transform(df)\r\n",
        "\r\n",
        "print(type(X_data))\r\n",
        "print(X_data.shape)"
      ],
      "execution_count": 104,
      "outputs": [
        {
          "output_type": "stream",
          "text": [
            "<class 'numpy.ndarray'>\n",
            "(891, 10)\n"
          ],
          "name": "stdout"
        }
      ]
    },
    {
      "cell_type": "markdown",
      "metadata": {
        "id": "mZLczCKLgB4G"
      },
      "source": [
        "#разбиение на обучающую/тестовую выборки"
      ]
    },
    {
      "cell_type": "code",
      "metadata": {
        "id": "4T-PGUmOcNFN"
      },
      "source": [
        "from sklearn.model_selection import train_test_split\r\n",
        "\r\n",
        "TRAIN_RATIO = 0.8\r\n",
        "\r\n",
        "y_data = df['Survived']\r\n",
        "\r\n",
        "X_train, X_test, y_train, y_test = train_test_split(\r\n",
        "    X_data, y_data, \r\n",
        "    train_size=TRAIN_RATIO, \r\n",
        "    random_state=RANDOM_STATE,\r\n",
        "    stratify=y_data\r\n",
        ")"
      ],
      "execution_count": 105,
      "outputs": []
    },
    {
      "cell_type": "markdown",
      "metadata": {
        "id": "5Bi3e97zgOOn"
      },
      "source": [
        "#функции оценки моделей"
      ]
    },
    {
      "cell_type": "code",
      "metadata": {
        "id": "_Z5lhVfcem7P"
      },
      "source": [
        "\r\n",
        "from sklearn.metrics import f1_score\r\n"
      ],
      "execution_count": 106,
      "outputs": []
    },
    {
      "cell_type": "markdown",
      "metadata": {
        "id": "1QzuDMl9gSOW"
      },
      "source": [
        "#оценка важности признаков"
      ]
    },
    {
      "cell_type": "code",
      "metadata": {
        "id": "dQGA081HdK9l"
      },
      "source": [
        "def show_importance(model, feature_names, X):\r\n",
        "    importances = model.feature_importances_\r\n",
        "    for feat_imp, feat_name in zip(importances, feature_names):\r\n",
        "        print(f'Feature: {feat_name} | {feat_imp}')\r\n",
        "\r\n",
        "    indices = np.argsort(importances)[::-1]\r\n",
        "    sorted_feat_names = [feature_names[ind] for ind in indices]\r\n",
        "\r\n",
        "    plt.figure()\r\n",
        "    plt.title(\"Feature importances\")\r\n",
        "    plt.bar(range(X.shape[1]), importances[indices], color=\"b\", align=\"center\")\r\n",
        "    plt.xticks(range(X.shape[1]), sorted_feat_names, rotation=70)\r\n",
        "    plt.xlim([-1, X.shape[1]])\r\n",
        "    plt.show()"
      ],
      "execution_count": 107,
      "outputs": []
    },
    {
      "cell_type": "markdown",
      "metadata": {
        "id": "gIIvTQqaghIT"
      },
      "source": [
        "# модели без нормалзации"
      ]
    },
    {
      "cell_type": "markdown",
      "metadata": {
        "id": "k4peW547gi_S"
      },
      "source": [
        "модель дерева"
      ]
    },
    {
      "cell_type": "code",
      "metadata": {
        "colab": {
          "base_uri": "https://localhost:8080/",
          "height": 875
        },
        "id": "0nv1oACQcxSm",
        "outputId": "251a2ec6-a0ac-47f2-e9e2-2056615b30ab"
      },
      "source": [
        "from sklearn.tree import DecisionTreeClassifier, plot_tree\r\n",
        "\r\n",
        "tree = DecisionTreeClassifier(random_state=42,max_depth=3,criterion='entropy')\r\n",
        "tree.fit(X_train, y_train)\r\n",
        "y_pred=tree.predict(X_test)\r\n",
        "f1 = f1_score(y_test,y_pred)\r\n",
        "print(f'f1_score={f1}')\r\n",
        "ohe_column_names = preprocessor \\\r\n",
        "    .named_transformers_['cat'] \\\r\n",
        "    .named_steps['enc'] \\\r\n",
        "    .get_feature_names(categorical_features)\r\n",
        "\r\n",
        "recovered_feat_names = \\\r\n",
        "    list(ohe_column_names) + \\\r\n",
        "    list(numeric_features)\r\n",
        "show_importance(tree, recovered_feat_names, X_train)"
      ],
      "execution_count": 108,
      "outputs": [
        {
          "output_type": "stream",
          "text": [
            "f1_score=0.7200000000000001\n",
            "Feature: Sex_female | 0.5713000294628707\n",
            "Feature: Sex_male | 0.0\n",
            "Feature: Embarked_C | 0.0\n",
            "Feature: Embarked_Q | 0.0\n",
            "Feature: Embarked_S | 0.0\n",
            "Feature: Pclass | 0.2632878756943254\n",
            "Feature: Age | 0.08967439414171541\n",
            "Feature: Fare | 0.05504374990907275\n",
            "Feature: SibSp | 0.02069395079201579\n",
            "Feature: Parch | 0.0\n"
          ],
          "name": "stdout"
        },
        {
          "output_type": "display_data",
          "data": {
            "image/png": "[encoded data removed]",
            "text/plain": [
              "<Figure size 1080x720 with 1 Axes>"
            ]
          },
          "metadata": {
            "tags": [],
            "needs_background": "light"
          }
        }
      ]
    },
    {
      "cell_type": "markdown",
      "metadata": {
        "id": "pzxHqJm1gpjK"
      },
      "source": [
        "модель линейной регрессии"
      ]
    },
    {
      "cell_type": "code",
      "metadata": {
        "id": "dpzSvAzweV-Z",
        "colab": {
          "base_uri": "https://localhost:8080/"
        },
        "outputId": "a1609a66-7c4b-482b-c48f-dad1bdd264cf"
      },
      "source": [
        "from sklearn.linear_model import LinearRegression\r\n",
        "\r\n",
        "# Создаем объект\r\n",
        "reg = LinearRegression()\r\n",
        "# Обучаем на выборке для обучения\r\n",
        "reg.fit(X_train, y_train)\r\n",
        "y_pred=np.round(reg.predict(X_test))\r\n",
        "f1 = f1_score(y_test,y_pred)\r\n",
        "print(f'f1_score={f1}')"
      ],
      "execution_count": 109,
      "outputs": [
        {
          "output_type": "stream",
          "text": [
            "f1_score=0.7384615384615385\n"
          ],
          "name": "stdout"
        }
      ]
    },
    {
      "cell_type": "markdown",
      "metadata": {
        "id": "snSeD1dSFyIa"
      },
      "source": [
        "до нормализации модель ленейной регрессии имела лучшую f1 оценку. Наиболее важными признаками оказались пол, возраст, класс, и стоимость билета."
      ]
    },
    {
      "cell_type": "markdown",
      "metadata": {
        "id": "ZZncJOvIg8Ug"
      },
      "source": [
        "#модели с нормализацией"
      ]
    },
    {
      "cell_type": "code",
      "metadata": {
        "id": "Mysqqwznh0VP"
      },
      "source": [
        "from sklearn.preprocessing import StandardScaler\r\n",
        "\r\n",
        "scaler = StandardScaler()\r\n",
        "reg = LinearRegression()\r\n",
        "# \"Обучение\" трансформера - определение параметров средних и отклонений\r\n",
        "scaler.fit(X_train)\r\n",
        "\r\n",
        "# Стандартизация данных\r\n",
        "X_train_scaled = scaler.transform(X_train)\r\n",
        "X_test_scaled = scaler.transform(X_test)"
      ],
      "execution_count": 110,
      "outputs": []
    },
    {
      "cell_type": "markdown",
      "metadata": {
        "id": "MBP2urgdhHzc"
      },
      "source": [
        "модель дерева"
      ]
    },
    {
      "cell_type": "code",
      "metadata": {
        "id": "EoD5T1z5fm_U",
        "colab": {
          "base_uri": "https://localhost:8080/",
          "height": 875
        },
        "outputId": "a1d74054-8cda-499d-ceac-f27935a9d5c7"
      },
      "source": [
        "tree = DecisionTreeClassifier(random_state=42,max_depth=3,criterion='entropy')\r\n",
        "tree.fit(X_train_scaled, y_train)\r\n",
        "y_pred=tree.predict(X_test_scaled)\r\n",
        "f1 = f1_score(y_test,y_pred)\r\n",
        "print(f'f1_score={f1}')\r\n",
        "show_importance(tree, recovered_feat_names, X_train_scaled)"
      ],
      "execution_count": 111,
      "outputs": [
        {
          "output_type": "stream",
          "text": [
            "f1_score=0.7200000000000001\n",
            "Feature: Sex_female | 0.5713000294628707\n",
            "Feature: Sex_male | 0.0\n",
            "Feature: Embarked_C | 0.0\n",
            "Feature: Embarked_Q | 0.0\n",
            "Feature: Embarked_S | 0.0\n",
            "Feature: Pclass | 0.2632878756943254\n",
            "Feature: Age | 0.08967439414171541\n",
            "Feature: Fare | 0.05504374990907275\n",
            "Feature: SibSp | 0.02069395079201579\n",
            "Feature: Parch | 0.0\n"
          ],
          "name": "stdout"
        },
        {
          "output_type": "display_data",
          "data": {
            "image/png": "[encoded data removed]",
            "text/plain": [
              "<Figure size 1080x720 with 1 Axes>"
            ]
          },
          "metadata": {
            "tags": [],
            "needs_background": "light"
          }
        }
      ]
    },
    {
      "cell_type": "markdown",
      "metadata": {
        "id": "h8gyRXyWhJbv"
      },
      "source": [
        "модель линейной регрессиии"
      ]
    },
    {
      "cell_type": "code",
      "metadata": {
        "id": "OK7doyFOfnkP",
        "colab": {
          "base_uri": "https://localhost:8080/"
        },
        "outputId": "4052f94c-9169-4405-b6c7-75e27bfe3d47"
      },
      "source": [
        "# Создаем объект\r\n",
        "reg = LinearRegression()\r\n",
        "# Обучаем на выборке для обучения\r\n",
        "reg.fit(X_train_scaled, y_train)\r\n",
        "y_pred=np.round(reg.predict(X_test_scaled))\r\n",
        "f1 = f1_score(y_test,y_pred)\r\n",
        "print(f'f1_score={f1}')"
      ],
      "execution_count": 112,
      "outputs": [
        {
          "output_type": "stream",
          "text": [
            "f1_score=0.7039999999999998\n"
          ],
          "name": "stdout"
        }
      ]
    },
    {
      "cell_type": "markdown",
      "metadata": {
        "id": "8NSjyEvrGHlv"
      },
      "source": [
        "после нормализации предсказания модели линейной регрессии ухудшились. У модели дерева оценка не изменилась."
      ]
    },
    {
      "cell_type": "markdown",
      "metadata": {
        "id": "v-KIxTaCjOye"
      },
      "source": [
        "#определение параметров дерева"
      ]
    },
    {
      "cell_type": "code",
      "metadata": {
        "id": "CfJk7qbqjOc0",
        "colab": {
          "base_uri": "https://localhost:8080/",
          "height": 462
        },
        "outputId": "3b955de2-7885-4be6-d505-7ca308da4712"
      },
      "source": [
        "from sklearn.model_selection import cross_val_score\r\n",
        "f1_scores=np.ndarray([14,2])\r\n",
        "criterions={\"gini\", \"entropy\"}\r\n",
        "max_depths=np.array(range(1,15,1))\r\n",
        "for i, max_depth in enumerate(max_depths):\r\n",
        "  for j, criterion in enumerate(criterions):\r\n",
        "    tree = DecisionTreeClassifier(random_state=42,max_depth=max_depth,criterion=criterion)\r\n",
        "    scores = cross_val_score(\r\n",
        "      tree,     # Модель для оценки\r\n",
        "      X_data,          # Данные для обучения\r\n",
        "      y_data,          # Разметка для обучения\r\n",
        "      cv=5,       # Количество фолдов\r\n",
        "      scoring='f1_macro'  # Желаемая метрика\r\n",
        "    )\r\n",
        "    f1_scores[i,j]=scores.mean();\r\n",
        "table=pd.DataFrame(data=f1_scores,columns=criterions,index=max_depths)\r\n",
        "table"
      ],
      "execution_count": 113,
      "outputs": [
        {
          "output_type": "execute_result",
          "data": {
            "text/html": [
              "<div>\n",
              "<style scoped>\n",
              "    .dataframe tbody tr th:only-of-type {\n",
              "        vertical-align: middle;\n",
              "    }\n",
              "\n",
              "    .dataframe tbody tr th {\n",
              "        vertical-align: top;\n",
              "    }\n",
              "\n",
              "    .dataframe thead th {\n",
              "        text-align: right;\n",
              "    }\n",
              "</style>\n",
              "<table border=\"1\" class=\"dataframe\">\n",
              "  <thead>\n",
              "    <tr style=\"text-align: right;\">\n",
              "      <th></th>\n",
              "      <th>gini</th>\n",
              "      <th>entropy</th>\n",
              "    </tr>\n",
              "  </thead>\n",
              "  <tbody>\n",
              "    <tr>\n",
              "      <th>1</th>\n",
              "      <td>0.770358</td>\n",
              "      <td>0.770358</td>\n",
              "    </tr>\n",
              "    <tr>\n",
              "      <th>2</th>\n",
              "      <td>0.740627</td>\n",
              "      <td>0.740627</td>\n",
              "    </tr>\n",
              "    <tr>\n",
              "      <th>3</th>\n",
              "      <td>0.789666</td>\n",
              "      <td>0.798474</td>\n",
              "    </tr>\n",
              "    <tr>\n",
              "      <th>4</th>\n",
              "      <td>0.778416</td>\n",
              "      <td>0.778904</td>\n",
              "    </tr>\n",
              "    <tr>\n",
              "      <th>5</th>\n",
              "      <td>0.793978</td>\n",
              "      <td>0.791622</td>\n",
              "    </tr>\n",
              "    <tr>\n",
              "      <th>6</th>\n",
              "      <td>0.796681</td>\n",
              "      <td>0.778847</td>\n",
              "    </tr>\n",
              "    <tr>\n",
              "      <th>7</th>\n",
              "      <td>0.791572</td>\n",
              "      <td>0.792793</td>\n",
              "    </tr>\n",
              "    <tr>\n",
              "      <th>8</th>\n",
              "      <td>0.793954</td>\n",
              "      <td>0.793234</td>\n",
              "    </tr>\n",
              "    <tr>\n",
              "      <th>9</th>\n",
              "      <td>0.793432</td>\n",
              "      <td>0.794862</td>\n",
              "    </tr>\n",
              "    <tr>\n",
              "      <th>10</th>\n",
              "      <td>0.794543</td>\n",
              "      <td>0.787982</td>\n",
              "    </tr>\n",
              "    <tr>\n",
              "      <th>11</th>\n",
              "      <td>0.781054</td>\n",
              "      <td>0.778495</td>\n",
              "    </tr>\n",
              "    <tr>\n",
              "      <th>12</th>\n",
              "      <td>0.778865</td>\n",
              "      <td>0.784727</td>\n",
              "    </tr>\n",
              "    <tr>\n",
              "      <th>13</th>\n",
              "      <td>0.774521</td>\n",
              "      <td>0.778555</td>\n",
              "    </tr>\n",
              "    <tr>\n",
              "      <th>14</th>\n",
              "      <td>0.773707</td>\n",
              "      <td>0.768258</td>\n",
              "    </tr>\n",
              "  </tbody>\n",
              "</table>\n",
              "</div>"
            ],
            "text/plain": [
              "        gini   entropy\n",
              "1   0.770358  0.770358\n",
              "2   0.740627  0.740627\n",
              "3   0.789666  0.798474\n",
              "4   0.778416  0.778904\n",
              "5   0.793978  0.791622\n",
              "6   0.796681  0.778847\n",
              "7   0.791572  0.792793\n",
              "8   0.793954  0.793234\n",
              "9   0.793432  0.794862\n",
              "10  0.794543  0.787982\n",
              "11  0.781054  0.778495\n",
              "12  0.778865  0.784727\n",
              "13  0.774521  0.778555\n",
              "14  0.773707  0.768258"
            ]
          },
          "metadata": {
            "tags": []
          },
          "execution_count": 113
        }
      ]
    },
    {
      "cell_type": "markdown",
      "metadata": {
        "id": "azix_SBoGYSO"
      },
      "source": [
        "в результате определения гипперпараметров: максимальная глубина дерева 3, категория entropy."
      ]
    },
    {
      "cell_type": "markdown",
      "metadata": {
        "id": "UgnzeamQyWzQ"
      },
      "source": [
        "#создание новых признаков"
      ]
    },
    {
      "cell_type": "code",
      "metadata": {
        "id": "gB6xVWhvyblk"
      },
      "source": [
        "df['FamilySize'] = df['Parch'] + df['SibSp'] + 1\r\n",
        "isAlone=list();\r\n",
        "for pers in df['FamilySize']:\r\n",
        "  if pers==1: isAlone.append(1);\r\n",
        "  else: isAlone.append(0);\r\n",
        "df['isAlone'] = isAlone\r\n",
        "df['FarePerPerson'] = df['FamilySize']/df['Fare']"
      ],
      "execution_count": 114,
      "outputs": []
    },
    {
      "cell_type": "markdown",
      "metadata": {
        "id": "peMeCXiU0vAB"
      },
      "source": [
        "оценка их важности"
      ]
    },
    {
      "cell_type": "markdown",
      "metadata": {
        "id": "ELW86ITjGyB-"
      },
      "source": [
        "в результате оценки влияния добавления разных новых признаков выяснилось, что наиболее важными будут следующие: 'Sex','Pclass','Age', 'Fare','FamilySize'"
      ]
    },
    {
      "cell_type": "code",
      "metadata": {
        "colab": {
          "base_uri": "https://localhost:8080/",
          "height": 800
        },
        "id": "s0aECf8q0uNA",
        "outputId": "7d94341a-484c-4147-b280-629d202e88ed"
      },
      "source": [
        "categorical_features = ['Sex']#, 'Embarked'\r\n",
        "numeric_features = ['Pclass','Age', 'Fare','FamilySize']#'SibSp',\t'Parch','isAlone'\r\n",
        "# Создаем обработчик категориальных признаков\r\n",
        "categorical_transformer = Pipeline(\r\n",
        "    steps=[\r\n",
        "        ('imp', SimpleImputer(strategy='most_frequent')),\r\n",
        "        ('enc', OneHotEncoder(handle_unknown='error')),                   \r\n",
        "])\r\n",
        "\r\n",
        "# Численные значения имеют пропуски, заполним стратегией медианы\r\n",
        "numeric_transformer = SimpleImputer(strategy='median')\r\n",
        "\r\n",
        "# Создаем конечный конвертер, который будет использован для \r\n",
        "#   предобработки\r\n",
        "preprocessor = ColumnTransformer(\r\n",
        "    # Список конвертеров, каждый кортеж содержит\r\n",
        "    #   имя, конвертер и признаки, на которые он будет применен\r\n",
        "    transformers=[\r\n",
        "        ('cat', categorical_transformer, categorical_features),\r\n",
        "        ('num', numeric_transformer, numeric_features)\r\n",
        "    ],\r\n",
        "    # Признаки, не указанные ни в одном из конвертеров будут удалены\r\n",
        "    remainder='drop'\r\n",
        ")\r\n",
        "preprocessor.fit(df)\r\n",
        "X_data = preprocessor.transform(df)\r\n",
        "TRAIN_RATIO = 0.8\r\n",
        "\r\n",
        "y_data = df['Survived']\r\n",
        "\r\n",
        "X_train, X_test, y_train, y_test = train_test_split(\r\n",
        "    X_data, y_data, \r\n",
        "    train_size=TRAIN_RATIO, \r\n",
        "    random_state=RANDOM_STATE,\r\n",
        "    stratify=y_data\r\n",
        ")\r\n",
        "ohe_column_names = preprocessor \\\r\n",
        "    .named_transformers_['cat'] \\\r\n",
        "    .named_steps['enc'] \\\r\n",
        "    .get_feature_names(categorical_features)\r\n",
        "\r\n",
        "recovered_feat_names = \\\r\n",
        "    list(ohe_column_names) + \\\r\n",
        "    list(numeric_features)\r\n",
        "tree = DecisionTreeClassifier(random_state=42,max_depth=3,criterion='entropy')\r\n",
        "tree.fit(X_train, y_train)\r\n",
        "y_pred=tree.predict(X_test)\r\n",
        "f1 = f1_score(y_test,y_pred)\r\n",
        "print(f'f1_score={f1}')\r\n",
        "show_importance(tree, recovered_feat_names, X_train)"
      ],
      "execution_count": 115,
      "outputs": [
        {
          "output_type": "stream",
          "text": [
            "f1_score=0.7200000000000001\n",
            "Feature: Sex_female | 0.5693649875674883\n",
            "Feature: Sex_male | 0.0\n",
            "Feature: Pclass | 0.2623960972176224\n",
            "Feature: Age | 0.08937065932522958\n",
            "Feature: Fare | 0.017547499612378704\n",
            "Feature: FamilySize | 0.06132075627728098\n"
          ],
          "name": "stdout"
        },
        {
          "output_type": "display_data",
          "data": {
            "image/png": "[encoded data removed]",
            "text/plain": [
              "<Figure size 1080x720 with 1 Axes>"
            ]
          },
          "metadata": {
            "tags": [],
            "needs_background": "light"
          }
        }
      ]
    },
    {
      "cell_type": "markdown",
      "metadata": {
        "id": "kxKw08cK4gp4"
      },
      "source": [
        "добывим группировку признаков age и fare"
      ]
    },
    {
      "cell_type": "code",
      "metadata": {
        "colab": {
          "base_uri": "https://localhost:8080/"
        },
        "id": "fudAj8sU4lvV",
        "outputId": "7093c3f2-60d5-40d7-b031-876776b5fcaa"
      },
      "source": [
        "from sklearn.preprocessing import KBinsDiscretizer\r\n",
        "ohe_column_names = preprocessor \\\r\n",
        "    .named_transformers_['cat'] \\\r\n",
        "    .named_steps['enc'] \\\r\n",
        "    .get_feature_names(categorical_features)\r\n",
        "\r\n",
        "recovered_feat_names = \\\r\n",
        "    list(ohe_column_names) + \\\r\n",
        "    list(numeric_features)\r\n",
        "\r\n",
        "df_enc = pd.DataFrame(X_data, columns=recovered_feat_names)\r\n",
        "discr1 = KBinsDiscretizer(\r\n",
        "    # Количество бинов    \r\n",
        "    n_bins=10,\r\n",
        "    # Способ кодирования - порядковый\r\n",
        "    encode='ordinal',\r\n",
        ")\r\n",
        "\r\n",
        "# Двойные скобки для передачи DataFrame (2D данные)\r\n",
        "df_enc['Fare'] = discr1.fit_transform(df_enc[['Fare']])\r\n",
        "discr2 = KBinsDiscretizer(\r\n",
        "    # Количество бинов    \r\n",
        "    n_bins=10,\r\n",
        "    # Способ кодирования - порядковый\r\n",
        "    encode='ordinal',\r\n",
        ")\r\n",
        "\r\n",
        "# Двойные скобки для передачи DataFrame (2D данные)\r\n",
        "df_enc['Age'] = discr2.fit_transform(df_enc[['Age']])\r\n"
      ],
      "execution_count": 116,
      "outputs": [
        {
          "output_type": "stream",
          "text": [
            "/usr/local/lib/python3.6/dist-packages/sklearn/preprocessing/_discretization.py:197: UserWarning: Bins whose width are too small (i.e., <= 1e-8) in feature 0 are removed. Consider decreasing the number of bins.\n",
            "  'decreasing the number of bins.' % jj)\n"
          ],
          "name": "stderr"
        }
      ]
    },
    {
      "cell_type": "code",
      "metadata": {
        "colab": {
          "base_uri": "https://localhost:8080/",
          "height": 800
        },
        "id": "YAcVGzCu5BeE",
        "outputId": "ff6fc2ad-3051-4e41-8f63-2732d078bbff"
      },
      "source": [
        "TRAIN_RATIO = 0.8\r\n",
        "\r\n",
        "y_data = df['Survived']\r\n",
        "feature_names=df_enc.columns\r\n",
        "X_data=df_enc[feature_names]\r\n",
        "X_train, X_test, y_train, y_test = train_test_split(\r\n",
        "    X_data, y_data, \r\n",
        "    train_size=TRAIN_RATIO, \r\n",
        "    random_state=RANDOM_STATE,\r\n",
        "    stratify=y_data\r\n",
        ")\r\n",
        "ohe_column_names = preprocessor \\\r\n",
        "    .named_transformers_['cat'] \\\r\n",
        "    .named_steps['enc'] \\\r\n",
        "    .get_feature_names(categorical_features)\r\n",
        "\r\n",
        "recovered_feat_names = \\\r\n",
        "    list(ohe_column_names) + \\\r\n",
        "    list(numeric_features)\r\n",
        "tree = DecisionTreeClassifier(random_state=42,max_depth=3,criterion='entropy')\r\n",
        "tree.fit(X_train, y_train)\r\n",
        "y_pred=tree.predict(X_test)\r\n",
        "f1 = f1_score(y_test,y_pred)\r\n",
        "print(f'f1_score={f1}')\r\n",
        "show_importance(tree, recovered_feat_names, X_train)"
      ],
      "execution_count": 117,
      "outputs": [
        {
          "output_type": "stream",
          "text": [
            "f1_score=0.7301587301587301\n",
            "Feature: Sex_female | 0.6151718074311925\n",
            "Feature: Sex_male | 0.0\n",
            "Feature: Pclass | 0.20219648125470416\n",
            "Feature: Age | 0.025741788537564533\n",
            "Feature: Fare | 0.08182616628929273\n",
            "Feature: FamilySize | 0.07506375648724622\n"
          ],
          "name": "stdout"
        },
        {
          "output_type": "display_data",
          "data": {
            "image/png": "[encoded data removed]",
            "text/plain": [
              "<Figure size 1080x720 with 1 Axes>"
            ]
          },
          "metadata": {
            "tags": [],
            "needs_background": "light"
          }
        }
      ]
    },
    {
      "cell_type": "markdown",
      "metadata": {
        "id": "bt_ZGJwTHOfB"
      },
      "source": [
        "замена возраста и стоимости билетов соответствующими группами позволило улучшить оценку."
      ]
    },
    {
      "cell_type": "markdown",
      "metadata": {
        "id": "aDNgMD-Sg1lb"
      },
      "source": [
        "#модель леса"
      ]
    },
    {
      "cell_type": "code",
      "metadata": {
        "id": "m2N-eg6tcM6K",
        "colab": {
          "base_uri": "https://localhost:8080/",
          "height": 800
        },
        "outputId": "b82bde38-504a-4488-9dd2-96e881a13a0b"
      },
      "source": [
        "from sklearn.ensemble import RandomForestClassifier\r\n",
        "\r\n",
        "rf_clf = RandomForestClassifier(max_depth=3,criterion='entropy')\r\n",
        "rf_clf.fit(X_train, y_train)\r\n",
        "y_pred=rf_clf.predict(X_test)\r\n",
        "f1 = f1_score(y_test,y_pred)\r\n",
        "print(f'f1_score={f1}')\r\n",
        "show_importance(rf_clf, recovered_feat_names, X_train)"
      ],
      "execution_count": 118,
      "outputs": [
        {
          "output_type": "stream",
          "text": [
            "f1_score=0.7301587301587301\n",
            "Feature: Sex_female | 0.3208190903955398\n",
            "Feature: Sex_male | 0.29178869549920516\n",
            "Feature: Pclass | 0.14476166843861235\n",
            "Feature: Age | 0.04462042092781955\n",
            "Feature: Fare | 0.13313020744725507\n",
            "Feature: FamilySize | 0.06487991729156795\n"
          ],
          "name": "stdout"
        },
        {
          "output_type": "display_data",
          "data": {
            "image/png": "[encoded data removed]",
            "text/plain": [
              "<Figure size 1080x720 with 1 Axes>"
            ]
          },
          "metadata": {
            "tags": [],
            "needs_background": "light"
          }
        }
      ]
    },
    {
      "cell_type": "code",
      "metadata": {
        "colab": {
          "base_uri": "https://localhost:8080/",
          "height": 491
        },
        "id": "n-RiEpm6C8j2",
        "outputId": "40ee3c9e-5942-44f1-b8c5-34fc05a71254"
      },
      "source": [
        "f1_scores=np.ndarray([15,15])\r\n",
        "n_estimators=np.array(range(1,300,20))\r\n",
        "max_depths=np.array(range(1,30,2))\r\n",
        "for i, max_depth in enumerate(max_depths):\r\n",
        "  for j, n_estimator in enumerate(n_estimators):\r\n",
        "    rf_clf = RandomForestClassifier(max_depth=max_depth,criterion='entropy',n_estimators=n_estimator)\r\n",
        "    scores = cross_val_score(\r\n",
        "      tree,     # Модель для оценки\r\n",
        "      X_data,          # Данные для обучения\r\n",
        "      y_data,          # Разметка для обучения\r\n",
        "      cv=5,       # Количество фолдов\r\n",
        "      scoring='f1_macro'  # Желаемая метрика\r\n",
        "    )\r\n",
        "    f1_scores[i,j]=scores.mean();\r\n",
        "table=pd.DataFrame(data=f1_scores,columns=n_estimators,index=max_depths)\r\n",
        "table"
      ],
      "execution_count": 119,
      "outputs": [
        {
          "output_type": "execute_result",
          "data": {
            "text/html": [
              "<div>\n",
              "<style scoped>\n",
              "    .dataframe tbody tr th:only-of-type {\n",
              "        vertical-align: middle;\n",
              "    }\n",
              "\n",
              "    .dataframe tbody tr th {\n",
              "        vertical-align: top;\n",
              "    }\n",
              "\n",
              "    .dataframe thead th {\n",
              "        text-align: right;\n",
              "    }\n",
              "</style>\n",
              "<table border=\"1\" class=\"dataframe\">\n",
              "  <thead>\n",
              "    <tr style=\"text-align: right;\">\n",
              "      <th></th>\n",
              "      <th>1</th>\n",
              "      <th>21</th>\n",
              "      <th>41</th>\n",
              "      <th>61</th>\n",
              "      <th>81</th>\n",
              "      <th>101</th>\n",
              "      <th>121</th>\n",
              "      <th>141</th>\n",
              "      <th>161</th>\n",
              "      <th>181</th>\n",
              "      <th>201</th>\n",
              "      <th>221</th>\n",
              "      <th>241</th>\n",
              "      <th>261</th>\n",
              "      <th>281</th>\n",
              "    </tr>\n",
              "  </thead>\n",
              "  <tbody>\n",
              "    <tr>\n",
              "      <th>1</th>\n",
              "      <td>0.794808</td>\n",
              "      <td>0.794808</td>\n",
              "      <td>0.794808</td>\n",
              "      <td>0.794808</td>\n",
              "      <td>0.794808</td>\n",
              "      <td>0.794808</td>\n",
              "      <td>0.794808</td>\n",
              "      <td>0.794808</td>\n",
              "      <td>0.794808</td>\n",
              "      <td>0.794808</td>\n",
              "      <td>0.794808</td>\n",
              "      <td>0.794808</td>\n",
              "      <td>0.794808</td>\n",
              "      <td>0.794808</td>\n",
              "      <td>0.794808</td>\n",
              "    </tr>\n",
              "    <tr>\n",
              "      <th>3</th>\n",
              "      <td>0.794808</td>\n",
              "      <td>0.794808</td>\n",
              "      <td>0.794808</td>\n",
              "      <td>0.794808</td>\n",
              "      <td>0.794808</td>\n",
              "      <td>0.794808</td>\n",
              "      <td>0.794808</td>\n",
              "      <td>0.794808</td>\n",
              "      <td>0.794808</td>\n",
              "      <td>0.794808</td>\n",
              "      <td>0.794808</td>\n",
              "      <td>0.794808</td>\n",
              "      <td>0.794808</td>\n",
              "      <td>0.794808</td>\n",
              "      <td>0.794808</td>\n",
              "    </tr>\n",
              "    <tr>\n",
              "      <th>5</th>\n",
              "      <td>0.794808</td>\n",
              "      <td>0.794808</td>\n",
              "      <td>0.794808</td>\n",
              "      <td>0.794808</td>\n",
              "      <td>0.794808</td>\n",
              "      <td>0.794808</td>\n",
              "      <td>0.794808</td>\n",
              "      <td>0.794808</td>\n",
              "      <td>0.794808</td>\n",
              "      <td>0.794808</td>\n",
              "      <td>0.794808</td>\n",
              "      <td>0.794808</td>\n",
              "      <td>0.794808</td>\n",
              "      <td>0.794808</td>\n",
              "      <td>0.794808</td>\n",
              "    </tr>\n",
              "    <tr>\n",
              "      <th>7</th>\n",
              "      <td>0.794808</td>\n",
              "      <td>0.794808</td>\n",
              "      <td>0.794808</td>\n",
              "      <td>0.794808</td>\n",
              "      <td>0.794808</td>\n",
              "      <td>0.794808</td>\n",
              "      <td>0.794808</td>\n",
              "      <td>0.794808</td>\n",
              "      <td>0.794808</td>\n",
              "      <td>0.794808</td>\n",
              "      <td>0.794808</td>\n",
              "      <td>0.794808</td>\n",
              "      <td>0.794808</td>\n",
              "      <td>0.794808</td>\n",
              "      <td>0.794808</td>\n",
              "    </tr>\n",
              "    <tr>\n",
              "      <th>9</th>\n",
              "      <td>0.794808</td>\n",
              "      <td>0.794808</td>\n",
              "      <td>0.794808</td>\n",
              "      <td>0.794808</td>\n",
              "      <td>0.794808</td>\n",
              "      <td>0.794808</td>\n",
              "      <td>0.794808</td>\n",
              "      <td>0.794808</td>\n",
              "      <td>0.794808</td>\n",
              "      <td>0.794808</td>\n",
              "      <td>0.794808</td>\n",
              "      <td>0.794808</td>\n",
              "      <td>0.794808</td>\n",
              "      <td>0.794808</td>\n",
              "      <td>0.794808</td>\n",
              "    </tr>\n",
              "    <tr>\n",
              "      <th>11</th>\n",
              "      <td>0.794808</td>\n",
              "      <td>0.794808</td>\n",
              "      <td>0.794808</td>\n",
              "      <td>0.794808</td>\n",
              "      <td>0.794808</td>\n",
              "      <td>0.794808</td>\n",
              "      <td>0.794808</td>\n",
              "      <td>0.794808</td>\n",
              "      <td>0.794808</td>\n",
              "      <td>0.794808</td>\n",
              "      <td>0.794808</td>\n",
              "      <td>0.794808</td>\n",
              "      <td>0.794808</td>\n",
              "      <td>0.794808</td>\n",
              "      <td>0.794808</td>\n",
              "    </tr>\n",
              "    <tr>\n",
              "      <th>13</th>\n",
              "      <td>0.794808</td>\n",
              "      <td>0.794808</td>\n",
              "      <td>0.794808</td>\n",
              "      <td>0.794808</td>\n",
              "      <td>0.794808</td>\n",
              "      <td>0.794808</td>\n",
              "      <td>0.794808</td>\n",
              "      <td>0.794808</td>\n",
              "      <td>0.794808</td>\n",
              "      <td>0.794808</td>\n",
              "      <td>0.794808</td>\n",
              "      <td>0.794808</td>\n",
              "      <td>0.794808</td>\n",
              "      <td>0.794808</td>\n",
              "      <td>0.794808</td>\n",
              "    </tr>\n",
              "    <tr>\n",
              "      <th>15</th>\n",
              "      <td>0.794808</td>\n",
              "      <td>0.794808</td>\n",
              "      <td>0.794808</td>\n",
              "      <td>0.794808</td>\n",
              "      <td>0.794808</td>\n",
              "      <td>0.794808</td>\n",
              "      <td>0.794808</td>\n",
              "      <td>0.794808</td>\n",
              "      <td>0.794808</td>\n",
              "      <td>0.794808</td>\n",
              "      <td>0.794808</td>\n",
              "      <td>0.794808</td>\n",
              "      <td>0.794808</td>\n",
              "      <td>0.794808</td>\n",
              "      <td>0.794808</td>\n",
              "    </tr>\n",
              "    <tr>\n",
              "      <th>17</th>\n",
              "      <td>0.794808</td>\n",
              "      <td>0.794808</td>\n",
              "      <td>0.794808</td>\n",
              "      <td>0.794808</td>\n",
              "      <td>0.794808</td>\n",
              "      <td>0.794808</td>\n",
              "      <td>0.794808</td>\n",
              "      <td>0.794808</td>\n",
              "      <td>0.794808</td>\n",
              "      <td>0.794808</td>\n",
              "      <td>0.794808</td>\n",
              "      <td>0.794808</td>\n",
              "      <td>0.794808</td>\n",
              "      <td>0.794808</td>\n",
              "      <td>0.794808</td>\n",
              "    </tr>\n",
              "    <tr>\n",
              "      <th>19</th>\n",
              "      <td>0.794808</td>\n",
              "      <td>0.794808</td>\n",
              "      <td>0.794808</td>\n",
              "      <td>0.794808</td>\n",
              "      <td>0.794808</td>\n",
              "      <td>0.794808</td>\n",
              "      <td>0.794808</td>\n",
              "      <td>0.794808</td>\n",
              "      <td>0.794808</td>\n",
              "      <td>0.794808</td>\n",
              "      <td>0.794808</td>\n",
              "      <td>0.794808</td>\n",
              "      <td>0.794808</td>\n",
              "      <td>0.794808</td>\n",
              "      <td>0.794808</td>\n",
              "    </tr>\n",
              "    <tr>\n",
              "      <th>21</th>\n",
              "      <td>0.794808</td>\n",
              "      <td>0.794808</td>\n",
              "      <td>0.794808</td>\n",
              "      <td>0.794808</td>\n",
              "      <td>0.794808</td>\n",
              "      <td>0.794808</td>\n",
              "      <td>0.794808</td>\n",
              "      <td>0.794808</td>\n",
              "      <td>0.794808</td>\n",
              "      <td>0.794808</td>\n",
              "      <td>0.794808</td>\n",
              "      <td>0.794808</td>\n",
              "      <td>0.794808</td>\n",
              "      <td>0.794808</td>\n",
              "      <td>0.794808</td>\n",
              "    </tr>\n",
              "    <tr>\n",
              "      <th>23</th>\n",
              "      <td>0.794808</td>\n",
              "      <td>0.794808</td>\n",
              "      <td>0.794808</td>\n",
              "      <td>0.794808</td>\n",
              "      <td>0.794808</td>\n",
              "      <td>0.794808</td>\n",
              "      <td>0.794808</td>\n",
              "      <td>0.794808</td>\n",
              "      <td>0.794808</td>\n",
              "      <td>0.794808</td>\n",
              "      <td>0.794808</td>\n",
              "      <td>0.794808</td>\n",
              "      <td>0.794808</td>\n",
              "      <td>0.794808</td>\n",
              "      <td>0.794808</td>\n",
              "    </tr>\n",
              "    <tr>\n",
              "      <th>25</th>\n",
              "      <td>0.794808</td>\n",
              "      <td>0.794808</td>\n",
              "      <td>0.794808</td>\n",
              "      <td>0.794808</td>\n",
              "      <td>0.794808</td>\n",
              "      <td>0.794808</td>\n",
              "      <td>0.794808</td>\n",
              "      <td>0.794808</td>\n",
              "      <td>0.794808</td>\n",
              "      <td>0.794808</td>\n",
              "      <td>0.794808</td>\n",
              "      <td>0.794808</td>\n",
              "      <td>0.794808</td>\n",
              "      <td>0.794808</td>\n",
              "      <td>0.794808</td>\n",
              "    </tr>\n",
              "    <tr>\n",
              "      <th>27</th>\n",
              "      <td>0.794808</td>\n",
              "      <td>0.794808</td>\n",
              "      <td>0.794808</td>\n",
              "      <td>0.794808</td>\n",
              "      <td>0.794808</td>\n",
              "      <td>0.794808</td>\n",
              "      <td>0.794808</td>\n",
              "      <td>0.794808</td>\n",
              "      <td>0.794808</td>\n",
              "      <td>0.794808</td>\n",
              "      <td>0.794808</td>\n",
              "      <td>0.794808</td>\n",
              "      <td>0.794808</td>\n",
              "      <td>0.794808</td>\n",
              "      <td>0.794808</td>\n",
              "    </tr>\n",
              "    <tr>\n",
              "      <th>29</th>\n",
              "      <td>0.794808</td>\n",
              "      <td>0.794808</td>\n",
              "      <td>0.794808</td>\n",
              "      <td>0.794808</td>\n",
              "      <td>0.794808</td>\n",
              "      <td>0.794808</td>\n",
              "      <td>0.794808</td>\n",
              "      <td>0.794808</td>\n",
              "      <td>0.794808</td>\n",
              "      <td>0.794808</td>\n",
              "      <td>0.794808</td>\n",
              "      <td>0.794808</td>\n",
              "      <td>0.794808</td>\n",
              "      <td>0.794808</td>\n",
              "      <td>0.794808</td>\n",
              "    </tr>\n",
              "  </tbody>\n",
              "</table>\n",
              "</div>"
            ],
            "text/plain": [
              "         1         21        41   ...       241       261       281\n",
              "1   0.794808  0.794808  0.794808  ...  0.794808  0.794808  0.794808\n",
              "3   0.794808  0.794808  0.794808  ...  0.794808  0.794808  0.794808\n",
              "5   0.794808  0.794808  0.794808  ...  0.794808  0.794808  0.794808\n",
              "7   0.794808  0.794808  0.794808  ...  0.794808  0.794808  0.794808\n",
              "9   0.794808  0.794808  0.794808  ...  0.794808  0.794808  0.794808\n",
              "11  0.794808  0.794808  0.794808  ...  0.794808  0.794808  0.794808\n",
              "13  0.794808  0.794808  0.794808  ...  0.794808  0.794808  0.794808\n",
              "15  0.794808  0.794808  0.794808  ...  0.794808  0.794808  0.794808\n",
              "17  0.794808  0.794808  0.794808  ...  0.794808  0.794808  0.794808\n",
              "19  0.794808  0.794808  0.794808  ...  0.794808  0.794808  0.794808\n",
              "21  0.794808  0.794808  0.794808  ...  0.794808  0.794808  0.794808\n",
              "23  0.794808  0.794808  0.794808  ...  0.794808  0.794808  0.794808\n",
              "25  0.794808  0.794808  0.794808  ...  0.794808  0.794808  0.794808\n",
              "27  0.794808  0.794808  0.794808  ...  0.794808  0.794808  0.794808\n",
              "29  0.794808  0.794808  0.794808  ...  0.794808  0.794808  0.794808\n",
              "\n",
              "[15 rows x 15 columns]"
            ]
          },
          "metadata": {
            "tags": []
          },
          "execution_count": 119
        }
      ]
    },
    {
      "cell_type": "markdown",
      "metadata": {
        "id": "ZNth-8LUIGN9"
      },
      "source": [
        "судя по результатам количество оценок и максимальная глубина не сильно (никак) влияют на итоговую оценку работы модели."
      ]
    },
    {
      "cell_type": "markdown",
      "metadata": {
        "id": "hqS9DBqOJQA2"
      },
      "source": [
        "#поиск лучших параметров через GridSearchCV"
      ]
    },
    {
      "cell_type": "code",
      "metadata": {
        "colab": {
          "base_uri": "https://localhost:8080/"
        },
        "id": "NotWLhGQJQgi",
        "outputId": "40ae9777-ab1d-442f-d5a7-92b5bffa741c"
      },
      "source": [
        "from sklearn.model_selection import GridSearchCV\r\n",
        "rf_clf = RandomForestClassifier( )\r\n",
        "parameters = {\r\n",
        "    'max_depth': [1, 2, 4, 5, 7,9,11],\r\n",
        "    'n_estimators': [1, 5, 10, 20, 40,60,80,100,120],\r\n",
        "    'criterion': ['gini','entropy'],\r\n",
        "}\r\n",
        "\r\n",
        "grid_search = GridSearchCV(\r\n",
        "    # модель\r\n",
        "    estimator=rf_clf,                   \r\n",
        "    # сетка параметров\r\n",
        "    #   может быть объектом dict \r\n",
        "    #   или list с несколькими dict внутри (несколько сеток)\r\n",
        "    param_grid=parameters,              \r\n",
        "    # кол-во фолдов для CV\r\n",
        "    cv=5,                               \r\n",
        "    # метрика для оценки - используем F1 \r\n",
        "    scoring='f1_macro',   \r\n",
        ")\r\n",
        "\r\n",
        "grid_search.fit(X_train, y_train)\r\n",
        "print(grid_search.best_params_)\r\n",
        "print(grid_search.best_score_)"
      ],
      "execution_count": 181,
      "outputs": [
        {
          "output_type": "stream",
          "text": [
            "{'criterion': 'entropy', 'max_depth': 4, 'n_estimators': 80}\n",
            "0.8067058693699283\n"
          ],
          "name": "stdout"
        }
      ]
    },
    {
      "cell_type": "markdown",
      "metadata": {
        "id": "dlHovN73KTZ2"
      },
      "source": [
        "применение GridSearchCV позволило найти более лучшие параметры для модели дерева, чем простая кросс-валидация"
      ]
    },
    {
      "cell_type": "markdown",
      "metadata": {
        "id": "ggnLwvRtJXMo"
      },
      "source": [
        "#поиск лучших параметров через RandomizedSearchCV"
      ]
    },
    {
      "cell_type": "code",
      "metadata": {
        "colab": {
          "base_uri": "https://localhost:8080/"
        },
        "id": "maBJUYynJ_md",
        "outputId": "92927995-34de-4abc-ec3f-be5c7d0da804"
      },
      "source": [
        "from sklearn.model_selection import RandomizedSearchCV\r\n",
        "rf_clf = RandomForestClassifier( )\r\n",
        "parameters = {\r\n",
        "    'max_depth': [1, 2, 4, 5, 7,9,11],\r\n",
        "    'n_estimators': [1, 5, 10, 20, 40,60,80,100,120],\r\n",
        "    'criterion': ['gini','entropy'],\r\n",
        "}\r\n",
        "\r\n",
        "rand_search = RandomizedSearchCV(\r\n",
        "    # модель\r\n",
        "    estimator=rf_clf,                   \r\n",
        "    # сетка параметров\r\n",
        "    #   может быть объектом dict \r\n",
        "    #   или list с несколькими dict внутри (несколько сеток)\r\n",
        "    param_distributions=parameters,              \r\n",
        "    # кол-во фолдов для CV\r\n",
        "    cv=5,                               \r\n",
        "    # метрика для оценки - используем F1 \r\n",
        "    scoring='f1_macro',   \r\n",
        ")\r\n",
        "\r\n",
        "rand_search.fit(X_train, y_train)\r\n",
        "print(rand_search.best_params_)\r\n",
        "print(rand_search.best_score_)"
      ],
      "execution_count": 127,
      "outputs": [
        {
          "output_type": "stream",
          "text": [
            "{'n_estimators': 100, 'max_depth': 5, 'criterion': 'entropy'}\n",
            "0.8043630851567098\n"
          ],
          "name": "stdout"
        }
      ]
    },
    {
      "cell_type": "markdown",
      "metadata": {
        "id": "HG0g-t3tL1ue"
      },
      "source": [
        "RandomizedSearchCV дал результат хуже даже после нескольких перезапусков.\r\n"
      ]
    },
    {
      "cell_type": "markdown",
      "metadata": {
        "id": "DrzkHPGOMXdK"
      },
      "source": [
        "Сравним работу лучших моделей дерева и леса на тестовой выборке."
      ]
    },
    {
      "cell_type": "code",
      "metadata": {
        "colab": {
          "base_uri": "https://localhost:8080/"
        },
        "id": "RL6JccmxMwTk",
        "outputId": "040d0a1e-c805-41f2-ca35-a3cf42c2c24b"
      },
      "source": [
        "rf_clf = RandomForestClassifier(max_depth=7,criterion='gini',n_estimators=100)\r\n",
        "rf_clf.fit(X_train, y_train)\r\n",
        "y_pred=rf_clf.predict(X_test)\r\n",
        "f1 = f1_score(y_test,y_pred)\r\n",
        "print(f'f1_score={f1}')\r\n",
        "tree = DecisionTreeClassifier(max_depth=3,criterion='entropy')\r\n",
        "tree.fit(X_train, y_train)\r\n",
        "y_pred=tree.predict(X_test)\r\n",
        "f1 = f1_score(y_test,y_pred)\r\n",
        "print(f'f1_score={f1}')"
      ],
      "execution_count": 128,
      "outputs": [
        {
          "output_type": "stream",
          "text": [
            "f1_score=0.7559055118110236\n",
            "f1_score=0.7301587301587301\n"
          ],
          "name": "stdout"
        }
      ]
    },
    {
      "cell_type": "markdown",
      "metadata": {
        "id": "OnPpKkewNJsf"
      },
      "source": [
        "не тестовой выборке модель леса, как и предполагалось, дала лучший результат по f1 оценке."
      ]
    },
    {
      "cell_type": "markdown",
      "metadata": {
        "id": "pKvwWgxLNTZd"
      },
      "source": [
        "#определение самых информативных признаков"
      ]
    },
    {
      "cell_type": "code",
      "metadata": {
        "id": "h2LX73XLOkVx"
      },
      "source": [
        "URL = 'https://raw.githubusercontent.com/KaiL4eK/ml_edu/master/datasets/Titanic_train.csv'\r\n",
        "df = pd.read_csv(URL)\r\n",
        "df['FamilySize'] = df['Parch'] + df['SibSp'] + 1\r\n",
        "isAlone=list();\r\n",
        "for pers in df['FamilySize']:\r\n",
        "  if pers==1: isAlone.append(1);\r\n",
        "  else: isAlone.append(0);\r\n",
        "df['isAlone'] = isAlone\r\n",
        "discr1 = KBinsDiscretizer(\r\n",
        "    n_bins=10,\r\n",
        "    encode='ordinal',\r\n",
        ")\r\n",
        "\r\n",
        "categorical_features = ['Sex', 'Embarked','isAlone']\r\n",
        "numeric_features = ['Pclass','Age', 'Fare','SibSp',\t'Parch','FamilySize']\r\n",
        "\r\n",
        "categorical_transformer = Pipeline(\r\n",
        "    steps=[\r\n",
        "        ('imp', SimpleImputer(strategy='most_frequent')),\r\n",
        "        ('enc', OneHotEncoder(handle_unknown='error')),                   \r\n",
        "])\r\n",
        "\r\n",
        "numeric_transformer = SimpleImputer(strategy='median')\r\n",
        "preprocessor = ColumnTransformer(\r\n",
        "    transformers=[\r\n",
        "        ('cat', categorical_transformer, categorical_features),\r\n",
        "        ('num', numeric_transformer, numeric_features)\r\n",
        "    ],\r\n",
        "    remainder='drop'\r\n",
        ")\r\n",
        "\r\n",
        "preprocessor.fit(df)\r\n",
        "\r\n",
        "X_data = preprocessor.transform(df)\r\n",
        "y_data = df['Survived']"
      ],
      "execution_count": 172,
      "outputs": []
    },
    {
      "cell_type": "code",
      "metadata": {
        "colab": {
          "base_uri": "https://localhost:8080/"
        },
        "id": "4z4AohWUOG0e",
        "outputId": "291943b2-3d6b-4cfb-e90a-82983fd7d474"
      },
      "source": [
        "from sklearn.datasets import make_friedman1\r\n",
        "from sklearn.feature_selection import RFE\r\n",
        "from sklearn.svm import SVR\r\n",
        "estimator = SVR(kernel=\"linear\")\r\n",
        "selector = RFE(estimator=estimator,n_features_to_select=7, step=1)\r\n",
        "selector = selector.fit(X_data, y_data)\r\n",
        "top7=selector.support_\r\n",
        "print(selector.support_)\r\n",
        "print(selector.ranking_)\r\n",
        "selector = RFE(estimator=estimator,n_features_to_select=5, step=1)\r\n",
        "selector = selector.fit(X_data, y_data)\r\n",
        "top5=selector.support_\r\n",
        "print(selector.support_)\r\n",
        "print(selector.ranking_)"
      ],
      "execution_count": 173,
      "outputs": [
        {
          "output_type": "stream",
          "text": [
            "[ True  True False False False  True  True False False False  True  True\n",
            "  True]\n",
            "[1 1 5 3 4 1 1 2 6 7 1 1 1]\n",
            "[ True  True False False False  True  True False False False  True False\n",
            " False]\n",
            "[1 1 7 5 6 1 1 4 8 9 1 3 2]\n"
          ],
          "name": "stdout"
        }
      ]
    },
    {
      "cell_type": "code",
      "metadata": {
        "id": "hShrXSfxRg_t"
      },
      "source": [
        "ohe_column_names = preprocessor \\\r\n",
        "    .named_transformers_['cat'] \\\r\n",
        "    .named_steps['enc'] \\\r\n",
        "    .get_feature_names(categorical_features)\r\n",
        "\r\n",
        "recovered_feat_names = \\\r\n",
        "    list(ohe_column_names) + \\\r\n",
        "    list(numeric_features)"
      ],
      "execution_count": 174,
      "outputs": []
    },
    {
      "cell_type": "markdown",
      "metadata": {
        "id": "5mbRD1V5VFLL"
      },
      "source": [
        "лучшие признаки:"
      ]
    },
    {
      "cell_type": "code",
      "metadata": {
        "colab": {
          "base_uri": "https://localhost:8080/"
        },
        "id": "hkrTATebTo0X",
        "outputId": "3f3d8bac-8c77-4d33-b49f-e91fc5666266"
      },
      "source": [
        "print(np.array(recovered_feat_names)[top5])\r\n",
        "print(np.array(recovered_feat_names)[top7])\r\n",
        "print(recovered_feat_names)"
      ],
      "execution_count": 175,
      "outputs": [
        {
          "output_type": "stream",
          "text": [
            "['Sex_female' 'Sex_male' 'isAlone_0' 'isAlone_1' 'SibSp']\n",
            "['Sex_female' 'Sex_male' 'isAlone_0' 'isAlone_1' 'SibSp' 'Parch'\n",
            " 'FamilySize']\n",
            "['Sex_female', 'Sex_male', 'Embarked_C', 'Embarked_Q', 'Embarked_S', 'isAlone_0', 'isAlone_1', 'Pclass', 'Age', 'Fare', 'SibSp', 'Parch', 'FamilySize']\n"
          ],
          "name": "stdout"
        }
      ]
    },
    {
      "cell_type": "code",
      "metadata": {
        "id": "58RTuCV4R2tu"
      },
      "source": [
        "TRAIN_RATIO = 0.8\r\n",
        "X_train, X_test, y_train, y_test = train_test_split(\r\n",
        "    X_data, y_data, \r\n",
        "    train_size=TRAIN_RATIO, \r\n",
        "    random_state=RANDOM_STATE,\r\n",
        "    stratify=y_data\r\n",
        ")\r\n",
        "X_test7=X_test[:,top7]\r\n",
        "X_test5=X_test[:,top5]\r\n",
        "X_train7=X_train[:,top7]\r\n",
        "X_train5=X_train[:,top5]"
      ],
      "execution_count": 176,
      "outputs": []
    },
    {
      "cell_type": "code",
      "metadata": {
        "colab": {
          "base_uri": "https://localhost:8080/",
          "height": 614
        },
        "id": "r4VjyiQKTHP7",
        "outputId": "835cb5e1-d08d-4949-a559-5a6727be7990"
      },
      "source": [
        "from sklearn.metrics import roc_curve\r\n",
        "from sklearn.metrics import roc_auc_score\r\n",
        "diag_values = np.array([\r\n",
        "        [0, 0],\r\n",
        "        [1, 1],\r\n",
        "    ])\r\n",
        "\r\n",
        "rf_clf=RandomForestClassifier()\r\n",
        "rf_clf.fit(X_train,y_train)\r\n",
        "y_pred_proba = rf_clf.predict_proba(X_test)\r\n",
        "plt.subplot(131)\r\n",
        "for i in range (2):\r\n",
        "    fpr, tpr, thresholds = roc_curve(y_test, y_pred_proba[:,i],pos_label=i)\r\n",
        "    plt.plot(fpr, tpr)\r\n",
        "    plt.plot(diag_values[:,0], diag_values[:,1], 'b--')\r\n",
        "    plt.xlabel('FPR')\r\n",
        "    plt.ylabel('TPR')\r\n",
        "    plt.grid(True)\r\n",
        "rf_clf=RandomForestClassifier()\r\n",
        "rf_clf.fit(X_train7,y_train)\r\n",
        "y_pred_proba = rf_clf.predict_proba(X_test7)\r\n",
        "plt.subplot(132)\r\n",
        "for i in range (2):\r\n",
        "    fpr, tpr, thresholds = roc_curve(y_test, y_pred_proba[:,i],pos_label=i)\r\n",
        "    plt.plot(fpr, tpr)\r\n",
        "    plt.plot(diag_values[:,0], diag_values[:,1], 'b--')\r\n",
        "    plt.xlabel('FPR')\r\n",
        "    plt.ylabel('TPR')\r\n",
        "    plt.grid(True)\r\n",
        "rf_clf=RandomForestClassifier()\r\n",
        "rf_clf.fit(X_train5,y_train)\r\n",
        "y_pred_proba = rf_clf.predict_proba(X_test5)\r\n",
        "plt.subplot(133)\r\n",
        "for i in range (2):\r\n",
        "    fpr, tpr, thresholds = roc_curve(y_test, y_pred_proba[:,i],pos_label=i)\r\n",
        "    plt.plot(fpr, tpr)\r\n",
        "    plt.plot(diag_values[:,0], diag_values[:,1], 'b--')\r\n",
        "    plt.xlabel('FPR')\r\n",
        "    plt.ylabel('TPR')\r\n",
        "    plt.grid(True)"
      ],
      "execution_count": 178,
      "outputs": [
        {
          "output_type": "display_data",
          "data": {
            "image/png": "[encoded data removed]",
            "text/plain": [
              "<Figure size 1080x720 with 3 Axes>"
            ]
          },
          "metadata": {
            "tags": [],
            "needs_background": "light"
          }
        }
      ]
    },
    {
      "cell_type": "markdown",
      "metadata": {
        "id": "PWfs67fdafRh"
      },
      "source": [
        "- Какой метод оценки модели лучше использовать в данной работе? Разделение на обучение/тест или кросс-валидация? Можно/нужно ли применять их вместе?\r\n",
        "Как оказалось в данном случае использовать лучше кросс-валидацию. Причем лучше методику GridSearchCV.\r\n",
        "- За что отвечают параметры `max_depth` и `n_estimators` в модели случайных лесов? Как они влияют на работу модели?\r\n",
        "max_depth - это максимальная глубина (величина(число узлов)) каждо дерева леса. n_estimators - это число таких деревьев в лесу. \r\n",
        "- В чем отличие GridSearch от RandomSearch?\r\n",
        "В RandomSearch в отличие от GridSearchCV, не все значения предложенных  параметров опробуются, а только фиксированное из количество выбирается из заданных распределений. Количество задается параметром n_iter.\r\n",
        "- Как влияет стандартизация признаков на работу модели леса?\r\n",
        "Фактически стандартизация признаков не оказала пости никакого влияния на результаты работы модели.\r\n",
        "- Что такое \"важность признака\"? Есть ли аналоги показателя в моделях линейной и логистической регрессии?\r\n",
        "В моем понимании важность признака является отображением его веса в линейной или логистической регрессии. и соответственно если она много меньше других, то от такого признака можно избавиться "
      ]
    }
  ]
}